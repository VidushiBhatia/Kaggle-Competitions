{
 "cells": [
  {
   "cell_type": "code",
   "execution_count": 1,
   "id": "1ecaa2ae",
   "metadata": {
    "_cell_guid": "b1076dfc-b9ad-4769-8c92-a6c4dae69d19",
    "_uuid": "8f2839f25d086af736a60e9eeb907d3b93b6e0e5",
    "execution": {
     "iopub.execute_input": "2022-03-13T13:47:27.701069Z",
     "iopub.status.busy": "2022-03-13T13:47:27.699651Z",
     "iopub.status.idle": "2022-03-13T13:47:29.283042Z",
     "shell.execute_reply": "2022-03-13T13:47:29.282316Z",
     "shell.execute_reply.started": "2022-03-13T13:26:46.262310Z"
    },
    "papermill": {
     "duration": 1.624597,
     "end_time": "2022-03-13T13:47:29.283238",
     "exception": false,
     "start_time": "2022-03-13T13:47:27.658641",
     "status": "completed"
    },
    "tags": []
   },
   "outputs": [],
   "source": [
    "# install required packages\n",
    "\n",
    "import numpy as np \n",
    "import pandas as pd \n",
    "import os\n",
    "import seaborn as sns\n",
    "from xgboost import XGBClassifier\n",
    "import matplotlib.pyplot as plt\n",
    "from datetime import datetime\n",
    "from sklearn.metrics import f1_score\n",
    "from sklearn.feature_extraction.text import CountVectorizer\n",
    "from sklearn.feature_extraction.text import TfidfTransformer\n",
    "from sklearn.naive_bayes import MultinomialNB\n",
    "from sklearn.pipeline import Pipeline\n",
    "from sklearn.model_selection import train_test_split\n",
    "from scipy import stats\n",
    "from wordcloud import WordCloud, STOPWORDS\n",
    "from PIL import Image\n",
    "import warnings\n",
    "warnings.filterwarnings('ignore')"
   ]
  },
  {
   "cell_type": "code",
   "execution_count": 2,
   "id": "7ab057ed",
   "metadata": {
    "execution": {
     "iopub.execute_input": "2022-03-13T13:47:29.362259Z",
     "iopub.status.busy": "2022-03-13T13:47:29.361414Z",
     "iopub.status.idle": "2022-03-13T13:47:30.880334Z",
     "shell.execute_reply": "2022-03-13T13:47:30.880886Z",
     "shell.execute_reply.started": "2022-03-13T13:26:47.441998Z"
    },
    "papermill": {
     "duration": 1.560867,
     "end_time": "2022-03-13T13:47:30.881067",
     "exception": false,
     "start_time": "2022-03-13T13:47:29.320200",
     "status": "completed"
    },
    "tags": []
   },
   "outputs": [
    {
     "data": {
      "text/html": [
       "<div>\n",
       "<style scoped>\n",
       "    .dataframe tbody tr th:only-of-type {\n",
       "        vertical-align: middle;\n",
       "    }\n",
       "\n",
       "    .dataframe tbody tr th {\n",
       "        vertical-align: top;\n",
       "    }\n",
       "\n",
       "    .dataframe thead th {\n",
       "        text-align: right;\n",
       "    }\n",
       "</style>\n",
       "<table border=\"1\" class=\"dataframe\">\n",
       "  <thead>\n",
       "    <tr style=\"text-align: right;\">\n",
       "      <th></th>\n",
       "      <th>uniq_id</th>\n",
       "      <th>product_name</th>\n",
       "      <th>manufacturer</th>\n",
       "      <th>price</th>\n",
       "      <th>number_available_in_stock</th>\n",
       "      <th>number_of_reviews</th>\n",
       "      <th>number_of_answered_questions</th>\n",
       "      <th>average_review_rating</th>\n",
       "      <th>amazon_category_and_sub_category</th>\n",
       "      <th>description</th>\n",
       "      <th>...</th>\n",
       "      <th>Unnamed: 885</th>\n",
       "      <th>Unnamed: 886</th>\n",
       "      <th>Unnamed: 887</th>\n",
       "      <th>Unnamed: 888</th>\n",
       "      <th>Unnamed: 889</th>\n",
       "      <th>Unnamed: 890</th>\n",
       "      <th>Unnamed: 891</th>\n",
       "      <th>Unnamed: 892</th>\n",
       "      <th>Unnamed: 893</th>\n",
       "      <th>Unnamed: 894</th>\n",
       "    </tr>\n",
       "  </thead>\n",
       "  <tbody>\n",
       "    <tr>\n",
       "      <th>0</th>\n",
       "      <td>eac7efa5dbd3d667f26eb3d3ab504464</td>\n",
       "      <td>Hornby 2014 Catalogue</td>\n",
       "      <td>Hornby</td>\n",
       "      <td>£3.42</td>\n",
       "      <td>5 new</td>\n",
       "      <td>15</td>\n",
       "      <td>1</td>\n",
       "      <td>4.9 out of 5 stars</td>\n",
       "      <td>Hobbies &gt; Model Trains &amp; Railway Sets &gt; Rail V...</td>\n",
       "      <td>Product Description Hornby 2014 Catalogue Box ...</td>\n",
       "      <td>...</td>\n",
       "      <td>NaN</td>\n",
       "      <td>NaN</td>\n",
       "      <td>NaN</td>\n",
       "      <td>NaN</td>\n",
       "      <td>NaN</td>\n",
       "      <td>NaN</td>\n",
       "      <td>NaN</td>\n",
       "      <td>NaN</td>\n",
       "      <td>NaN</td>\n",
       "      <td>NaN</td>\n",
       "    </tr>\n",
       "    <tr>\n",
       "      <th>1</th>\n",
       "      <td>b17540ef7e86e461d37f3ae58b7b72ac</td>\n",
       "      <td>FunkyBuys® Large Christmas Holiday Express Fes...</td>\n",
       "      <td>FunkyBuys</td>\n",
       "      <td>£16.99</td>\n",
       "      <td>NaN</td>\n",
       "      <td>2</td>\n",
       "      <td>1</td>\n",
       "      <td>4.5 out of 5 stars</td>\n",
       "      <td>Hobbies &gt; Model Trains &amp; Railway Sets &gt; Rail V...</td>\n",
       "      <td>Size Name:Large FunkyBuys® Large Christmas Hol...</td>\n",
       "      <td>...</td>\n",
       "      <td>NaN</td>\n",
       "      <td>NaN</td>\n",
       "      <td>NaN</td>\n",
       "      <td>NaN</td>\n",
       "      <td>NaN</td>\n",
       "      <td>NaN</td>\n",
       "      <td>NaN</td>\n",
       "      <td>NaN</td>\n",
       "      <td>NaN</td>\n",
       "      <td>NaN</td>\n",
       "    </tr>\n",
       "    <tr>\n",
       "      <th>2</th>\n",
       "      <td>348f344247b0c1a935b1223072ef9d8a</td>\n",
       "      <td>CLASSIC TOY TRAIN SET TRACK CARRIAGES LIGHT EN...</td>\n",
       "      <td>ccf</td>\n",
       "      <td>£9.99</td>\n",
       "      <td>2 new</td>\n",
       "      <td>17</td>\n",
       "      <td>2</td>\n",
       "      <td>3.9 out of 5 stars</td>\n",
       "      <td>Hobbies &gt; Model Trains &amp; Railway Sets &gt; Rail V...</td>\n",
       "      <td>BIG CLASSIC TOY TRAIN SET TRACK CARRIAGE LIGHT...</td>\n",
       "      <td>...</td>\n",
       "      <td>NaN</td>\n",
       "      <td>NaN</td>\n",
       "      <td>NaN</td>\n",
       "      <td>NaN</td>\n",
       "      <td>NaN</td>\n",
       "      <td>NaN</td>\n",
       "      <td>NaN</td>\n",
       "      <td>NaN</td>\n",
       "      <td>NaN</td>\n",
       "      <td>NaN</td>\n",
       "    </tr>\n",
       "    <tr>\n",
       "      <th>3</th>\n",
       "      <td>e12b92dbb8eaee78b22965d2a9bbbd9f</td>\n",
       "      <td>HORNBY Coach R4410A BR Hawksworth Corridor 3rd</td>\n",
       "      <td>Hornby</td>\n",
       "      <td>£39.99</td>\n",
       "      <td>NaN</td>\n",
       "      <td>1</td>\n",
       "      <td>2</td>\n",
       "      <td>5.0 out of 5 stars</td>\n",
       "      <td>Hobbies &gt; Model Trains &amp; Railway Sets &gt; Rail V...</td>\n",
       "      <td>Hornby 00 Gauge BR Hawksworth 3rd Class W 2107...</td>\n",
       "      <td>...</td>\n",
       "      <td>NaN</td>\n",
       "      <td>NaN</td>\n",
       "      <td>NaN</td>\n",
       "      <td>NaN</td>\n",
       "      <td>NaN</td>\n",
       "      <td>NaN</td>\n",
       "      <td>NaN</td>\n",
       "      <td>NaN</td>\n",
       "      <td>NaN</td>\n",
       "      <td>NaN</td>\n",
       "    </tr>\n",
       "    <tr>\n",
       "      <th>4</th>\n",
       "      <td>e33a9adeed5f36840ccc227db4682a36</td>\n",
       "      <td>Hornby 00 Gauge 0-4-0 Gildenlow Salt Co. Steam...</td>\n",
       "      <td>Hornby</td>\n",
       "      <td>£32.19</td>\n",
       "      <td>NaN</td>\n",
       "      <td>3</td>\n",
       "      <td>2</td>\n",
       "      <td>4.7 out of 5 stars</td>\n",
       "      <td>Hobbies &gt; Model Trains &amp; Railway Sets &gt; Rail V...</td>\n",
       "      <td>Product Description Hornby RailRoad 0-4-0 Gild...</td>\n",
       "      <td>...</td>\n",
       "      <td>NaN</td>\n",
       "      <td>NaN</td>\n",
       "      <td>NaN</td>\n",
       "      <td>NaN</td>\n",
       "      <td>NaN</td>\n",
       "      <td>NaN</td>\n",
       "      <td>NaN</td>\n",
       "      <td>NaN</td>\n",
       "      <td>NaN</td>\n",
       "      <td>NaN</td>\n",
       "    </tr>\n",
       "  </tbody>\n",
       "</table>\n",
       "<p>5 rows × 895 columns</p>\n",
       "</div>"
      ],
      "text/plain": [
       "                            uniq_id  \\\n",
       "0  eac7efa5dbd3d667f26eb3d3ab504464   \n",
       "1  b17540ef7e86e461d37f3ae58b7b72ac   \n",
       "2  348f344247b0c1a935b1223072ef9d8a   \n",
       "3  e12b92dbb8eaee78b22965d2a9bbbd9f   \n",
       "4  e33a9adeed5f36840ccc227db4682a36   \n",
       "\n",
       "                                        product_name manufacturer   price  \\\n",
       "0                              Hornby 2014 Catalogue       Hornby   £3.42   \n",
       "1  FunkyBuys® Large Christmas Holiday Express Fes...    FunkyBuys  £16.99   \n",
       "2  CLASSIC TOY TRAIN SET TRACK CARRIAGES LIGHT EN...          ccf   £9.99   \n",
       "3     HORNBY Coach R4410A BR Hawksworth Corridor 3rd       Hornby  £39.99   \n",
       "4  Hornby 00 Gauge 0-4-0 Gildenlow Salt Co. Steam...       Hornby  £32.19   \n",
       "\n",
       "  number_available_in_stock number_of_reviews number_of_answered_questions  \\\n",
       "0                     5 new                15                            1   \n",
       "1                       NaN                 2                            1   \n",
       "2                     2 new                17                            2   \n",
       "3                       NaN                 1                            2   \n",
       "4                       NaN                 3                            2   \n",
       "\n",
       "  average_review_rating                   amazon_category_and_sub_category  \\\n",
       "0    4.9 out of 5 stars  Hobbies > Model Trains & Railway Sets > Rail V...   \n",
       "1    4.5 out of 5 stars  Hobbies > Model Trains & Railway Sets > Rail V...   \n",
       "2    3.9 out of 5 stars  Hobbies > Model Trains & Railway Sets > Rail V...   \n",
       "3    5.0 out of 5 stars  Hobbies > Model Trains & Railway Sets > Rail V...   \n",
       "4    4.7 out of 5 stars  Hobbies > Model Trains & Railway Sets > Rail V...   \n",
       "\n",
       "                                         description  ... Unnamed: 885  \\\n",
       "0  Product Description Hornby 2014 Catalogue Box ...  ...          NaN   \n",
       "1  Size Name:Large FunkyBuys® Large Christmas Hol...  ...          NaN   \n",
       "2  BIG CLASSIC TOY TRAIN SET TRACK CARRIAGE LIGHT...  ...          NaN   \n",
       "3  Hornby 00 Gauge BR Hawksworth 3rd Class W 2107...  ...          NaN   \n",
       "4  Product Description Hornby RailRoad 0-4-0 Gild...  ...          NaN   \n",
       "\n",
       "  Unnamed: 886 Unnamed: 887 Unnamed: 888 Unnamed: 889 Unnamed: 890  \\\n",
       "0          NaN          NaN          NaN          NaN          NaN   \n",
       "1          NaN          NaN          NaN          NaN          NaN   \n",
       "2          NaN          NaN          NaN          NaN          NaN   \n",
       "3          NaN          NaN          NaN          NaN          NaN   \n",
       "4          NaN          NaN          NaN          NaN          NaN   \n",
       "\n",
       "  Unnamed: 891 Unnamed: 892 Unnamed: 893 Unnamed: 894  \n",
       "0          NaN          NaN          NaN          NaN  \n",
       "1          NaN          NaN          NaN          NaN  \n",
       "2          NaN          NaN          NaN          NaN  \n",
       "3          NaN          NaN          NaN          NaN  \n",
       "4          NaN          NaN          NaN          NaN  \n",
       "\n",
       "[5 rows x 895 columns]"
      ]
     },
     "metadata": {},
     "output_type": "display_data"
    },
    {
     "data": {
      "text/plain": [
       "(10004, 895)"
      ]
     },
     "execution_count": 2,
     "metadata": {},
     "output_type": "execute_result"
    }
   ],
   "source": [
    "# read database and store in a dataframe variable\n",
    "def read(path='/kaggle/input/10000-amazon-products-dataset/Amazon_Products.csv'):\n",
    "    df = pd.read_csv(path, dtype=str)\n",
    "    display(df.head())\n",
    "    return df\n",
    "\n",
    "df = read()\n",
    "df.shape"
   ]
  },
  {
   "cell_type": "markdown",
   "id": "a5029fe1",
   "metadata": {
    "papermill": {
     "duration": 0.036439,
     "end_time": "2022-03-13T13:47:30.955138",
     "exception": false,
     "start_time": "2022-03-13T13:47:30.918699",
     "status": "completed"
    },
    "tags": []
   },
   "source": [
    "## Data Cleaning\n",
    "\n",
    "There are a wide variety of columns available in the dataset which will need to be looked at one at a time. Upon a quick look, it seems like most of the columns starting with \"Unnamed\" are not useful and can be deleted."
   ]
  },
  {
   "cell_type": "code",
   "execution_count": 3,
   "id": "8d7ad4ab",
   "metadata": {
    "execution": {
     "iopub.execute_input": "2022-03-13T13:47:31.040180Z",
     "iopub.status.busy": "2022-03-13T13:47:31.039026Z",
     "iopub.status.idle": "2022-03-13T13:47:31.041700Z",
     "shell.execute_reply": "2022-03-13T13:47:31.042368Z",
     "shell.execute_reply.started": "2022-03-13T13:26:49.178854Z"
    },
    "papermill": {
     "duration": 0.05086,
     "end_time": "2022-03-13T13:47:31.042563",
     "exception": false,
     "start_time": "2022-03-13T13:47:30.991703",
     "status": "completed"
    },
    "tags": []
   },
   "outputs": [],
   "source": [
    "# function to summarize any column\n",
    "def ColSummary (col, dtype=None, new_col=None):\n",
    "    try:\n",
    "        print(\"\\n\"+str(col).upper()+\" ANALYSIS\")\n",
    "        if new_col:\n",
    "            df.rename(columns={col:new_col})\n",
    "            print(\"\\t\"+col+\" name updated to \"+new_col)\n",
    "            col = new_col\n",
    "        if dtype:\n",
    "            df[col] = df[col].astype(dtype)\n",
    "            print(\"\\tType changed to \"+dtype)\n",
    "        print('\\tTotal number of values : ', len(df[col]))\n",
    "        print('\\tTotal number of unique values : ', df[col].nunique())\n",
    "        print('\\tUnique values : ',df[col].unique()[:5])\n",
    "        print('\\tRange of length : ', min(df[col].apply(lambda x: len(str(x)))),\" to \",max(df[col].apply(lambda x: len(str(x)))))\n",
    "        print('\\tMissing Values : ', df[col].isna().sum())\n",
    "    except:\n",
    "        print(\"\\n*** Cannot work with this datatype.. Try Again.... ***\")"
   ]
  },
  {
   "cell_type": "code",
   "execution_count": 4,
   "id": "9e42e000",
   "metadata": {
    "execution": {
     "iopub.execute_input": "2022-03-13T13:47:31.122050Z",
     "iopub.status.busy": "2022-03-13T13:47:31.120924Z",
     "iopub.status.idle": "2022-03-13T13:47:31.162674Z",
     "shell.execute_reply": "2022-03-13T13:47:31.161999Z",
     "shell.execute_reply.started": "2022-03-13T13:26:49.187291Z"
    },
    "papermill": {
     "duration": 0.081911,
     "end_time": "2022-03-13T13:47:31.162836",
     "exception": false,
     "start_time": "2022-03-13T13:47:31.080925",
     "status": "completed"
    },
    "tags": []
   },
   "outputs": [
    {
     "name": "stdout",
     "output_type": "stream",
     "text": [
      "Leftover columns:  Index(['uniq_id', 'product_name', 'manufacturer', 'price',\n",
      "       'number_available_in_stock', 'number_of_reviews',\n",
      "       'number_of_answered_questions', 'average_review_rating',\n",
      "       'amazon_category_and_sub_category', 'description',\n",
      "       'product_information', 'product_description',\n",
      "       'items_customers_buy_after_viewing_this_item',\n",
      "       'customer_questions_and_answers'],\n",
      "      dtype='object')\n"
     ]
    }
   ],
   "source": [
    "# delete columns which are unnamed\n",
    "unnamed_cols = [col for col in df.columns if 'Unnamed' in col]\n",
    "df = df.drop(unnamed_cols, axis = 1)\n",
    "print(\"Leftover columns: \", df.columns)"
   ]
  },
  {
   "cell_type": "code",
   "execution_count": 5,
   "id": "0d81ab3b",
   "metadata": {
    "execution": {
     "iopub.execute_input": "2022-03-13T13:47:31.249303Z",
     "iopub.status.busy": "2022-03-13T13:47:31.241210Z",
     "iopub.status.idle": "2022-03-13T13:47:31.328011Z",
     "shell.execute_reply": "2022-03-13T13:47:31.327159Z",
     "shell.execute_reply.started": "2022-03-13T13:26:49.231715Z"
    },
    "papermill": {
     "duration": 0.127231,
     "end_time": "2022-03-13T13:47:31.328187",
     "exception": false,
     "start_time": "2022-03-13T13:47:31.200956",
     "status": "completed"
    },
    "tags": []
   },
   "outputs": [
    {
     "name": "stdout",
     "output_type": "stream",
     "text": [
      "\n",
      "UNIQ_ID ANALYSIS\n",
      "\tType changed to str\n",
      "\tTotal number of values :  10004\n",
      "\tTotal number of unique values :  10002\n",
      "\tUnique values :  ['eac7efa5dbd3d667f26eb3d3ab504464' 'b17540ef7e86e461d37f3ae58b7b72ac'\n",
      " '348f344247b0c1a935b1223072ef9d8a' 'e12b92dbb8eaee78b22965d2a9bbbd9f'\n",
      " 'e33a9adeed5f36840ccc227db4682a36']\n",
      "\tRange of length :  1  to  32\n",
      "\tMissing Values :  0\n",
      "\n",
      "\tInspecting IDs with unusual length :  ['nan', '}', 'nan', '}']\n",
      "\tDeleting IDs with unusual length ..... \n",
      "\n",
      "Unique IDs updated .....\n",
      "\n",
      "UNIQ_ID ANALYSIS\n",
      "\tTotal number of values :  10000\n",
      "\tTotal number of unique values :  10000\n",
      "\tUnique values :  ['eac7efa5dbd3d667f26eb3d3ab504464' 'b17540ef7e86e461d37f3ae58b7b72ac'\n",
      " '348f344247b0c1a935b1223072ef9d8a' 'e12b92dbb8eaee78b22965d2a9bbbd9f'\n",
      " 'e33a9adeed5f36840ccc227db4682a36']\n",
      "\tRange of length :  32  to  32\n",
      "\tMissing Values :  0\n"
     ]
    }
   ],
   "source": [
    "# Analyze and clean Unique IDS (primary key)\n",
    "ColSummary('uniq_id', 'str')\n",
    "# Some IDs have unusual length\n",
    "print('\\n\\tInspecting IDs with unusual length : ', list(df['uniq_id'][df['uniq_id'].apply(lambda x: len(str(x)))<=3]))\n",
    "print('\\tDeleting IDs with unusual length ..... ')\n",
    "df = df.drop(index = list(df['uniq_id'][df['uniq_id'].apply(lambda x: len(str(x))<=3)].index))\n",
    "print('\\nUnique IDs updated .....')\n",
    "ColSummary('uniq_id')"
   ]
  },
  {
   "cell_type": "code",
   "execution_count": 6,
   "id": "501c5e91",
   "metadata": {
    "execution": {
     "iopub.execute_input": "2022-03-13T13:47:31.415850Z",
     "iopub.status.busy": "2022-03-13T13:47:31.414712Z",
     "iopub.status.idle": "2022-03-13T13:47:31.447367Z",
     "shell.execute_reply": "2022-03-13T13:47:31.448050Z",
     "shell.execute_reply.started": "2022-03-13T13:26:49.308892Z"
    },
    "papermill": {
     "duration": 0.081873,
     "end_time": "2022-03-13T13:47:31.448235",
     "exception": false,
     "start_time": "2022-03-13T13:47:31.366362",
     "status": "completed"
    },
    "tags": []
   },
   "outputs": [
    {
     "name": "stdout",
     "output_type": "stream",
     "text": [
      "\n",
      "PRODUCT_NAME ANALYSIS\n",
      "\tType changed to string\n",
      "\tTotal number of values :  10000\n",
      "\tTotal number of unique values :  9964\n",
      "\tUnique values :  <StringArray>\n",
      "[                                                                                                 'Hornby 2014 Catalogue',\n",
      " 'FunkyBuys® Large Christmas Holiday Express Festive Train Set (SI-TY1017) Toy Light / Sounds / Battery Operated & Smoke',\n",
      "                                             'CLASSIC TOY TRAIN SET TRACK CARRIAGES LIGHT ENGINE BOXED BOYS KIDS BATTERY',\n",
      "                                                                         'HORNBY Coach R4410A BR Hawksworth Corridor 3rd',\n",
      "                                                        'Hornby 00 Gauge 0-4-0 Gildenlow Salt Co. Steam Locomotive Model']\n",
      "Length: 5, dtype: string\n",
      "\tRange of length :  3  to  536\n",
      "\tMissing Values :  0\n"
     ]
    }
   ],
   "source": [
    "# Analyze Product Name - No cleaning required\n",
    "ColSummary('product_name', 'string')"
   ]
  },
  {
   "cell_type": "code",
   "execution_count": 7,
   "id": "f87a9639",
   "metadata": {
    "execution": {
     "iopub.execute_input": "2022-03-13T13:47:31.529957Z",
     "iopub.status.busy": "2022-03-13T13:47:31.529213Z",
     "iopub.status.idle": "2022-03-13T13:47:31.566492Z",
     "shell.execute_reply": "2022-03-13T13:47:31.565837Z",
     "shell.execute_reply.started": "2022-03-13T13:26:49.346263Z"
    },
    "papermill": {
     "duration": 0.079181,
     "end_time": "2022-03-13T13:47:31.566667",
     "exception": false,
     "start_time": "2022-03-13T13:47:31.487486",
     "status": "completed"
    },
    "tags": []
   },
   "outputs": [
    {
     "name": "stdout",
     "output_type": "stream",
     "text": [
      "\n",
      "MANUFACTURER ANALYSIS\n",
      "\tType changed to string\n",
      "\tTotal number of values :  10000\n",
      "\tTotal number of unique values :  2651\n",
      "\tUnique values :  <StringArray>\n",
      "['Hornby', 'FunkyBuys', 'ccf', 'Generic', 'Chuggington']\n",
      "Length: 5, dtype: string\n",
      "\tRange of length :  1  to  48\n",
      "\tMissing Values :  7\n"
     ]
    }
   ],
   "source": [
    "# Analyze Manufacturer - No cleaning required\n",
    "ColSummary('manufacturer', 'string') "
   ]
  },
  {
   "cell_type": "code",
   "execution_count": 8,
   "id": "2e79d2c2",
   "metadata": {
    "execution": {
     "iopub.execute_input": "2022-03-13T13:47:31.649158Z",
     "iopub.status.busy": "2022-03-13T13:47:31.647764Z",
     "iopub.status.idle": "2022-03-13T13:47:31.728653Z",
     "shell.execute_reply": "2022-03-13T13:47:31.727679Z",
     "shell.execute_reply.started": "2022-03-13T13:26:49.374385Z"
    },
    "papermill": {
     "duration": 0.123482,
     "end_time": "2022-03-13T13:47:31.728864",
     "exception": false,
     "start_time": "2022-03-13T13:47:31.605382",
     "status": "completed"
    },
    "tags": []
   },
   "outputs": [
    {
     "name": "stdout",
     "output_type": "stream",
     "text": [
      "\n",
      "PRICE ANALYSIS\n",
      "\tTotal number of values :  10000\n",
      "\tTotal number of unique values :  2625\n",
      "\tUnique values :  ['£3.42' '£16.99' '£9.99' '£39.99' '£32.19']\n",
      "\tRange of length :  3  to  19\n",
      "\tMissing Values :  1435\n",
      "\n",
      " Deleting rows which have price with greater than 5 length i.e. have ranges instead of values .....\n",
      "\n",
      "PRICE ANALYSIS\n",
      "\tType changed to float64\n",
      "\tTotal number of values :  5603\n",
      "\tTotal number of unique values :  754\n",
      "\tUnique values :  [3.42 9.99 6.99  nan 9.6 ]\n",
      "\tRange of length :  3  to  4\n",
      "\tMissing Values :  1435\n"
     ]
    }
   ],
   "source": [
    "# Analyze Price - Need to convert string to numeric\n",
    "ColSummary('price')\n",
    "\n",
    "# Some rows have range mentioned instead of a price - this is significantly changing the df size\n",
    "# another way to tackle this would be to add the middle point of the range as the prize\n",
    "print(\"\\n Deleting rows which have price with greater than 5 length i.e. have ranges instead of values .....\")\n",
    "df = df.drop(index = list(df['price'][df['price'].apply(lambda x: len(str(x))>5)].index))\n",
    "\n",
    "# Remove the euro sign before numeric conversion\n",
    "df['price'] = df['price'][df['price'].isna()==False].str[1:]\n",
    "\n",
    "# Convert into float and analyze updated column\n",
    "ColSummary('price', 'float64')"
   ]
  },
  {
   "cell_type": "code",
   "execution_count": 9,
   "id": "fd10b48c",
   "metadata": {
    "execution": {
     "iopub.execute_input": "2022-03-13T13:47:31.832688Z",
     "iopub.status.busy": "2022-03-13T13:47:31.815242Z",
     "iopub.status.idle": "2022-03-13T13:47:31.859570Z",
     "shell.execute_reply": "2022-03-13T13:47:31.860130Z",
     "shell.execute_reply.started": "2022-03-13T13:26:49.432819Z"
    },
    "papermill": {
     "duration": 0.091258,
     "end_time": "2022-03-13T13:47:31.860343",
     "exception": false,
     "start_time": "2022-03-13T13:47:31.769085",
     "status": "completed"
    },
    "tags": []
   },
   "outputs": [
    {
     "name": "stdout",
     "output_type": "stream",
     "text": [
      "\n",
      "NUMBER_AVAILABLE_IN_STOCK ANALYSIS\n",
      "\tTotal number of values :  5603\n",
      "\tTotal number of unique values :  70\n",
      "\tUnique values :  ['5\\xa0new' '2\\xa0new' nan '1\\xa0new' '18\\xa0new']\n",
      "\tRange of length :  3  to  13\n",
      "\tMissing Values :  1532\n",
      "\n",
      "NUMBER_AVAILABLE_IN_STOCK ANALYSIS\n",
      "\tType changed to float64\n",
      "\tTotal number of values :  5603\n",
      "\tTotal number of unique values :  55\n",
      "\tUnique values :  [ 5.  2. nan  1. 18.]\n",
      "\tRange of length :  3  to  4\n",
      "\tMissing Values :  1532\n"
     ]
    }
   ],
   "source": [
    "# Analyze Number available in stock - need to change to numeric \n",
    "ColSummary('number_available_in_stock')\n",
    "\n",
    "# split the stings into list and keep only the numeric part\n",
    "df['number_available_in_stock'] = df['number_available_in_stock'].apply(lambda x: str(x).split()[0])\n",
    "\n",
    "# change to float and analyze again\n",
    "ColSummary('number_available_in_stock','float64')"
   ]
  },
  {
   "cell_type": "code",
   "execution_count": 10,
   "id": "b64a282e",
   "metadata": {
    "execution": {
     "iopub.execute_input": "2022-03-13T13:47:31.959699Z",
     "iopub.status.busy": "2022-03-13T13:47:31.958712Z",
     "iopub.status.idle": "2022-03-13T13:47:31.991239Z",
     "shell.execute_reply": "2022-03-13T13:47:31.990637Z",
     "shell.execute_reply.started": "2022-03-13T13:26:49.472162Z"
    },
    "papermill": {
     "duration": 0.091764,
     "end_time": "2022-03-13T13:47:31.991462",
     "exception": false,
     "start_time": "2022-03-13T13:47:31.899698",
     "status": "completed"
    },
    "tags": []
   },
   "outputs": [
    {
     "name": "stdout",
     "output_type": "stream",
     "text": [
      "\n",
      "NUMBER_OF_REVIEWS ANALYSIS\n",
      "\tTotal number of values :  5603\n",
      "\tTotal number of unique values :  157\n",
      "\tUnique values :  ['15' '17' '2' '8' '1']\n",
      "\tRange of length :  1  to  5\n",
      "\tMissing Values :  7\n",
      "\n",
      " Removing commas from strings for float conversion .....\n",
      "\n",
      "NUMBER_OF_REVIEWS ANALYSIS\n",
      "\tType changed to float64\n",
      "\tTotal number of values :  5603\n",
      "\tTotal number of unique values :  157\n",
      "\tUnique values :  [15. 17.  2.  8.  1.]\n",
      "\tRange of length :  3  to  6\n",
      "\tMissing Values :  7\n"
     ]
    }
   ],
   "source": [
    "# Analyze Number of Reviews - need to convert into numeric\n",
    "ColSummary('number_of_reviews')\n",
    "\n",
    "# some strings have commas which is preventing direct float conversion\n",
    "print(\"\\n Removing commas from strings for float conversion .....\")\n",
    "df['number_of_reviews'] = df['number_of_reviews'].apply(lambda x: str(x).replace(',',''))\n",
    "\n",
    "# convert to float and analyze updated columns\n",
    "ColSummary('number_of_reviews', 'float64')"
   ]
  },
  {
   "cell_type": "code",
   "execution_count": 11,
   "id": "9f8fac18",
   "metadata": {
    "execution": {
     "iopub.execute_input": "2022-03-13T13:47:32.080996Z",
     "iopub.status.busy": "2022-03-13T13:47:32.079934Z",
     "iopub.status.idle": "2022-03-13T13:47:32.100762Z",
     "shell.execute_reply": "2022-03-13T13:47:32.101395Z",
     "shell.execute_reply.started": "2022-03-13T13:26:49.519703Z"
    },
    "papermill": {
     "duration": 0.070339,
     "end_time": "2022-03-13T13:47:32.101659",
     "exception": false,
     "start_time": "2022-03-13T13:47:32.031320",
     "status": "completed"
    },
    "tags": []
   },
   "outputs": [
    {
     "name": "stdout",
     "output_type": "stream",
     "text": [
      "\n",
      "NUMBER_OF_ANSWERED_QUESTIONS ANALYSIS\n",
      "\tType changed to float64\n",
      "\tTotal number of values :  5603\n",
      "\tTotal number of unique values :  17\n",
      "\tUnique values :  [ 1.  2.  6. nan  5.]\n",
      "\tRange of length :  3  to  4\n",
      "\tMissing Values :  528\n"
     ]
    }
   ],
   "source": [
    "# Analyze Number of Answered Questions - need to convert into numeric\n",
    "ColSummary('number_of_answered_questions','float64')"
   ]
  },
  {
   "cell_type": "code",
   "execution_count": 12,
   "id": "2c2668cb",
   "metadata": {
    "execution": {
     "iopub.execute_input": "2022-03-13T13:47:32.202786Z",
     "iopub.status.busy": "2022-03-13T13:47:32.201900Z",
     "iopub.status.idle": "2022-03-13T13:47:32.233703Z",
     "shell.execute_reply": "2022-03-13T13:47:32.234250Z",
     "shell.execute_reply.started": "2022-03-13T13:26:49.539388Z"
    },
    "papermill": {
     "duration": 0.092407,
     "end_time": "2022-03-13T13:47:32.234489",
     "exception": false,
     "start_time": "2022-03-13T13:47:32.142082",
     "status": "completed"
    },
    "tags": []
   },
   "outputs": [
    {
     "name": "stdout",
     "output_type": "stream",
     "text": [
      "\n",
      "AVERAGE_REVIEW_RATING ANALYSIS\n",
      "\tTotal number of values :  5603\n",
      "\tTotal number of unique values :  17\n",
      "\tUnique values :  ['4.9 out of 5 stars' '3.9 out of 5 stars' '5.0 out of 5 stars'\n",
      " '4.8 out of 5 stars' '4.5 out of 5 stars']\n",
      "\tRange of length :  3  to  18\n",
      "\tMissing Values :  7\n",
      "\n",
      "AVERAGE_REVIEW_RATING ANALYSIS\n",
      "\tType changed to float64\n",
      "\tTotal number of values :  5603\n",
      "\tTotal number of unique values :  17\n",
      "\tUnique values :  [4.9 3.9 5.  4.8 4.5]\n",
      "\tRange of length :  3  to  3\n",
      "\tMissing Values :  7\n"
     ]
    }
   ],
   "source": [
    "# Analyze Avg Review Ratign - need to convert into numeric\n",
    "ColSummary('average_review_rating')\n",
    "\n",
    "# the values include the denominator of the rating which is consistent throughtout and hence, need not be mentioned\n",
    "df['average_review_rating'] = df['average_review_rating'].apply(lambda x: str(x).split()[0])\n",
    "\n",
    "# After retaining only ratings and removing additional text, convert into float\n",
    "ColSummary('average_review_rating', 'float64')"
   ]
  },
  {
   "cell_type": "code",
   "execution_count": 13,
   "id": "31d86d57",
   "metadata": {
    "execution": {
     "iopub.execute_input": "2022-03-13T13:47:32.363174Z",
     "iopub.status.busy": "2022-03-13T13:47:32.319242Z",
     "iopub.status.idle": "2022-03-13T13:47:32.369205Z",
     "shell.execute_reply": "2022-03-13T13:47:32.368131Z",
     "shell.execute_reply.started": "2022-03-13T13:26:49.579735Z"
    },
    "papermill": {
     "duration": 0.094142,
     "end_time": "2022-03-13T13:47:32.369392",
     "exception": false,
     "start_time": "2022-03-13T13:47:32.275250",
     "status": "completed"
    },
    "tags": []
   },
   "outputs": [
    {
     "name": "stdout",
     "output_type": "stream",
     "text": [
      "\n",
      "AMAZON_CATEGORY_AND_SUB_CATEGORY ANALYSIS\n",
      "\tTotal number of values :  5603\n",
      "\tTotal number of unique values :  220\n",
      "\tUnique values :  ['Hobbies > Model Trains & Railway Sets > Rail Vehicles > Trains'\n",
      " 'Hobbies > Model Trains & Railway Sets > Lighting & Signal Engineering > Lamps & Lighting'\n",
      " 'Hobbies > Model Trains & Railway Sets > Rail Vehicles > Locomotives'\n",
      " 'Hobbies > Model Trains & Railway Sets > Lighting & Signal Engineering > Signal & Sound'\n",
      " 'Hobbies > Model Trains & Railway Sets > Accessories > Recreational Activities']\n",
      "\tRange of length :  3  to  120\n",
      "\tMissing Values :  330\n",
      "\n",
      "AMAZON_CATEGORY_AND_SUB_CATEGORY ANALYSIS\n",
      "\tTotal number of values :  5603\n",
      "\n",
      "*** Cannot work with this datatype.. Try Again.... ***\n"
     ]
    }
   ],
   "source": [
    "# Analyze Categories - Each value has all the subcatogories mentioned in a string format - need to convert to list\n",
    "ColSummary('amazon_category_and_sub_category')\n",
    "\n",
    "# break using delimiter for list conversion\n",
    "df['amazon_category_and_sub_category'] = df['amazon_category_and_sub_category'].apply(lambda x: str(x).split(\" > \"))\n",
    "\n",
    "# each list has varied length, for easier analysis - make len consistent by adding None\n",
    "itr = max(df['amazon_category_and_sub_category'].apply(lambda x: len(x)))\n",
    "for i in range (1, itr+1):\n",
    "    df['amazon_category_and_sub_category'].apply(lambda x: x.append(\"None\") if (len(x) < i) else x)\n",
    "\n",
    "# Analyze updated column\n",
    "ColSummary('amazon_category_and_sub_category')"
   ]
  },
  {
   "cell_type": "code",
   "execution_count": 14,
   "id": "75030b2c",
   "metadata": {
    "execution": {
     "iopub.execute_input": "2022-03-13T13:47:32.478826Z",
     "iopub.status.busy": "2022-03-13T13:47:32.477587Z",
     "iopub.status.idle": "2022-03-13T13:47:32.482841Z",
     "shell.execute_reply": "2022-03-13T13:47:32.482250Z",
     "shell.execute_reply.started": "2022-03-13T13:26:49.614771Z"
    },
    "papermill": {
     "duration": 0.071201,
     "end_time": "2022-03-13T13:47:32.483014",
     "exception": false,
     "start_time": "2022-03-13T13:47:32.411813",
     "status": "completed"
    },
    "tags": []
   },
   "outputs": [
    {
     "name": "stdout",
     "output_type": "stream",
     "text": [
      "\n",
      "DESCRIPTION ANALYSIS\n",
      "\tTotal number of values :  5603\n",
      "\tTotal number of unique values :  4646\n",
      "\tUnique values :  ['Product Description Hornby 2014 Catalogue Box Contains 1 x one catalogue'\n",
      " 'BIG CLASSIC TOY TRAIN SET TRACK CARRIAGE LIGHT ENGINE SOUND BOXED KIDS BATTERY Railway Train Set with Light Sound, Big Size Curved Track Free Wheeling Action Working Headlight Sound Horn The Track Can Also Be Assembled In More Layouts Length Of Track 104 cm WIDTH OF THE TRACK 68 CM Finely Detailed Realistic Toy Train REQUIRES 2 AA BATTERIES (NOT INCLUDED)'\n",
      " 'These delicate model garden lights are mainly used in teaching, photography, and various kinds of scene model. Each of them is completed with wires and has double heads, which can be lighten with 6V power. These model lights measure about 7cm high. Light up your model layout with this great model lamppost! Description: A pack of 20pcs model garden lamps Each has double head, completed with wires and bulbs Mainly used to decorate your model layout Voltage: 6V Power: 1 W Height: Approx. 2.76 inch / 7cm Scale: 1:100 Material: Plastic Main Color: Black Note: Each lamp has 4 wires altogether. When you connect these wires with the power, please connect two long wires with one end and connect the rest two short wires with another end. Package Include: 20pcs model garden lights'\n",
      " 'Product Description An amazingly Interactive Chuggington World! Chuggington Interactive Chatsworth instantly recognises and \"magically\" talks to any other engine, training stop and set accessories. This engine has over 60 sounds and phrases (when used with other Chuggington interactive products). Featuring the actual voice from the Chuggington show. Each Interactive talking engine features Smart Talk technology which enables them to instantly recognise any other engine, react to any train stop and respond to your play! Chuggington Interactive is a magical open ended play system featuring iconic destinations and characters from the BBC\\'s CBeebies top rated preschool show Chuggington. Chatsworth is a very proper engine who lives next door to Harrison in the upper level of the roundhouse. Chatsworth is honest, good mannered, polite and considerate of others, however he considers himself as the upper crust of Chuggington. On time, clean and in fine repair, Chatsworth always presents his best wheel forward, as first impressions are very important to him. Engines recognise and \"magically\" talk to each other, training stops and set accessories. Requires 2 x AA batteries (included). Box Contains 1 x Interactive Chatsworth engine'\n",
      " 'Suitable for the following scale(s): OO Scale']\n",
      "\tRange of length :  1  to  32751\n",
      "\tMissing Values :  469\n"
     ]
    }
   ],
   "source": [
    "# Analyze description - no change required\n",
    "ColSummary('description')"
   ]
  },
  {
   "cell_type": "code",
   "execution_count": 15,
   "id": "450cf1f9",
   "metadata": {
    "execution": {
     "iopub.execute_input": "2022-03-13T13:47:32.597398Z",
     "iopub.status.busy": "2022-03-13T13:47:32.596205Z",
     "iopub.status.idle": "2022-03-13T13:47:32.601539Z",
     "shell.execute_reply": "2022-03-13T13:47:32.600809Z",
     "shell.execute_reply.started": "2022-03-13T13:26:49.641780Z"
    },
    "papermill": {
     "duration": 0.077145,
     "end_time": "2022-03-13T13:47:32.601697",
     "exception": false,
     "start_time": "2022-03-13T13:47:32.524552",
     "status": "completed"
    },
    "tags": []
   },
   "outputs": [
    {
     "name": "stdout",
     "output_type": "stream",
     "text": [
      "\n",
      "PRODUCT_INFORMATION ANALYSIS\n",
      "\tTotal number of values :  5603\n",
      "\tTotal number of unique values :  5575\n",
      "\tUnique values :  ['Technical Details Item Weight640 g Product Dimensions29.6 x 20.8 x 1 cm Manufacturer recommended age:6 years and up Item model numberR8148 Main Language(s)English manual, English Number of Game Players1 Number of Puzzle Pieces1 Assembly RequiredNo Scale1:72 Engine Typeelectric Track Width/GaugeHO Batteries Required?No Batteries Included?No Material Type(s)Paper Material Care InstructionsNo Remote Control Included?No Radio Control Suitabilityindoor Colorwhite \\xa0\\xa0 Additional Information ASINB00HJ208KO Best Sellers Rank 52,854 in Toys & Games (See top 100) #69 in\\xa0Toys & Games > Model Trains & Railway Sets > Rail Vehicles > Trains Shipping Weight640 g Delivery Destinations:Visit the Delivery Destinations Help page to see where this item can be delivered. Date First Available24 Dec. 2013 \\xa0\\xa0 Feedback \\xa0Would you like to update product info or give feedback on images?'\n",
      " 'Technical Details Manufacturer recommended age:3 years and up \\xa0\\xa0 Additional Information ASINB00E5MNXJ4 Best Sellers Rank 54,147 in Toys & Games (See top 100) #72 in\\xa0Toys & Games > Model Trains & Railway Sets > Rail Vehicles > Trains Delivery Destinations:Visit the Delivery Destinations Help page to see where this item can be delivered. Date First Available25 July 2013 \\xa0\\xa0 Feedback \\xa0Would you like to update product info or give feedback on images?'\n",
      " 'Technical Details Manufacturer recommended age:3 years and up \\xa0\\xa0 Additional Information ASINB008MRH3Y4 Best Sellers Rank 60,815 in Toys & Games (See top 100) #9 in\\xa0Toys & Games > Model Trains & Railway Sets > Lighting & Signal Engineering > Lamps & Lighting Delivery Destinations:Visit the Delivery Destinations Help page to see where this item can be delivered. Date First Available19 July 2012 \\xa0\\xa0 Feedback \\xa0Would you like to update product info or give feedback on images?'\n",
      " \"Technical Details Item Weight150 g Product Dimensions12.7 x 4.4 x 6.7 cm Batteries:2 AA batteries required. (included) Manufacturer recommended age:36 months - 10 years Item model numberLC55012 Manufacturer's Suggested Maximum Weight43.5 Kilograms Number of Puzzle Pieces1 Assembly RequiredNo Batteries Required?Yes Batteries Included?Yes Material Type(s)Plastic Material Composition100% plastic Material Care InstructionsInteraction performance may be reduced with use in an outdoor environment or in direct sunlight Remote Control Included?No Radio Control SuitabilityIndoor Colormulticoloured \\xa0\\xa0 Additional Information ASINB003M2XTK6 Best Sellers Rank 195,658 in Toys & Games (See top 100) #307 in\\xa0Toys & Games > Model Trains & Railway Sets > Rail Vehicles > Trains Shipping Weight227 g Delivery Destinations:Visit the Delivery Destinations Help page to see where this item can be delivered. Date First Available3 Aug. 2010 \\xa0\\xa0 Feedback \\xa0Would you like to update product info or give feedback on images?\"\n",
      " 'Technical Details Manufacturer recommended age:14 years and up Manufacturer reference37-662 Scale1:76 Track Width/GaugeOO \\xa0\\xa0 Additional Information ASINB00H2HH7OG Best Sellers Rank 522,353 in Toys & Games (See top 100) #473 in\\xa0Toys & Games > Model Trains & Railway Sets > Rail Vehicles > Wagons #859 in\\xa0Toys & Games > Model Trains & Railway Sets > Rail Vehicles > Trains Delivery Destinations:Visit the Delivery Destinations Help page to see where this item can be delivered. Date First Available3 Dec. 2013 \\xa0\\xa0 Feedback \\xa0Would you like to update product info or give feedback on images?']\n",
      "\tRange of length :  3  to  2525\n",
      "\tMissing Values :  27\n"
     ]
    }
   ],
   "source": [
    "# Analyze Product Information - no change required\n",
    "ColSummary('product_information')"
   ]
  },
  {
   "cell_type": "code",
   "execution_count": 16,
   "id": "7baf44e3",
   "metadata": {
    "execution": {
     "iopub.execute_input": "2022-03-13T13:47:32.693980Z",
     "iopub.status.busy": "2022-03-13T13:47:32.693140Z",
     "iopub.status.idle": "2022-03-13T13:47:32.719595Z",
     "shell.execute_reply": "2022-03-13T13:47:32.718845Z",
     "shell.execute_reply.started": "2022-03-13T13:26:49.666289Z"
    },
    "papermill": {
     "duration": 0.075258,
     "end_time": "2022-03-13T13:47:32.719761",
     "exception": false,
     "start_time": "2022-03-13T13:47:32.644503",
     "status": "completed"
    },
    "tags": []
   },
   "outputs": [
    {
     "name": "stdout",
     "output_type": "stream",
     "text": [
      "\n",
      "PRODUCT_DESCRIPTION ANALYSIS\n",
      "\tTotal number of values :  5603\n",
      "\tTotal number of unique values :  4645\n",
      "\tUnique values :  ['Product Description Hornby 2014 Catalogue Box Contains 1 x one catalogue'\n",
      " 'BIG CLASSIC TOY TRAIN SET TRACK CARRIAGE LIGHT ENGINE SOUND BOXED KIDS BATTERY Railway Train Set with Light Sound, Big Size Curved Track Free Wheeling Action Working Headlight Sound Horn The Track Can Also Be Assembled In More Layouts Length Of Track 104 cm WIDTH OF THE TRACK 68 CM Finely Detailed Realistic Toy Train REQUIRES 2 AA BATTERIES (NOT INCLUDED)'\n",
      " 'These delicate model garden lights are mainly used in teaching, photography, and various kinds of scene model. Each of them is completed with wires and has double heads, which can be lighten with 6V power. These model lights measure about 7cm high. Light up your model layout with this great model lamppost! Description: A pack of 20pcs model garden lamps Each has double head, completed with wires and bulbs Mainly used to decorate your model layout Voltage: 6V Power: 1 W Height: Approx. 2.76 inch / 7cm Scale: 1:100 Material: Plastic Main Color: Black Note: Each lamp has 4 wires altogether. When you connect these wires with the power, please connect two long wires with one end and connect the rest two short wires with another end. Package Include: 20pcs model garden lights'\n",
      " 'Product Description An amazingly Interactive Chuggington World! Chuggington Interactive Chatsworth instantly recognises and \"magically\" talks to any other engine, training stop and set accessories. This engine has over 60 sounds and phrases (when used with other Chuggington interactive products). Featuring the actual voice from the Chuggington show. Each Interactive talking engine features Smart Talk technology which enables them to instantly recognise any other engine, react to any train stop and respond to your play! Chuggington Interactive is a magical open ended play system featuring iconic destinations and characters from the BBC\\'s CBeebies top rated preschool show Chuggington. Chatsworth is a very proper engine who lives next door to Harrison in the upper level of the roundhouse. Chatsworth is honest, good mannered, polite and considerate of others, however he considers himself as the upper crust of Chuggington. On time, clean and in fine repair, Chatsworth always presents his best wheel forward, as first impressions are very important to him. Engines recognise and \"magically\" talk to each other, training stops and set accessories. Requires 2 x AA batteries (included). Box Contains 1 x Interactive Chatsworth engine'\n",
      " 'Suitable for the following scale(s): OO Scale']\n",
      "\tRange of length :  1  to  4264\n",
      "\tMissing Values :  470\n"
     ]
    }
   ],
   "source": [
    "# Analyze Product Description - no change required\n",
    "\n",
    "# the values look similar to description column - this column might not add much value \n",
    "ColSummary('product_description')"
   ]
  },
  {
   "cell_type": "code",
   "execution_count": 17,
   "id": "fac87c98",
   "metadata": {
    "execution": {
     "iopub.execute_input": "2022-03-13T13:47:32.832182Z",
     "iopub.status.busy": "2022-03-13T13:47:32.830939Z",
     "iopub.status.idle": "2022-03-13T13:47:32.839906Z",
     "shell.execute_reply": "2022-03-13T13:47:32.839037Z",
     "shell.execute_reply.started": "2022-03-13T13:26:49.691582Z"
    },
    "papermill": {
     "duration": 0.077675,
     "end_time": "2022-03-13T13:47:32.840106",
     "exception": false,
     "start_time": "2022-03-13T13:47:32.762431",
     "status": "completed"
    },
    "tags": []
   },
   "outputs": [
    {
     "name": "stdout",
     "output_type": "stream",
     "text": [
      "\n",
      "ITEMS_CUSTOMERS_BUY_AFTER_VIEWING_THIS_ITEM ANALYSIS\n",
      "\tTotal number of values :  5603\n",
      "\tTotal number of unique values :  3768\n",
      "\tUnique values :  ['http://www.amazon.co.uk/Hornby-R8150-Catalogue-2015/dp/B00S9SUUBE | http://www.amazon.co.uk/Hornby-Book-Model-Railways-Edition/dp/1844860957 | http://www.amazon.co.uk/Peco-60-Plans-Book/dp/B002QVL16I | http://www.amazon.co.uk/Newcomers-Guide-Model-Railways-Step/dp/1857943295'\n",
      " 'http://www.amazon.co.uk/Train-With-Tracks-Battery-Operated-x/dp/B009P540O8 | http://www.amazon.co.uk/Classic-Train-Lights-Battery-Operated/dp/B0041L9OHE | http://www.amazon.co.uk/Train-Flash-Electric-Sound-Europe/dp/B008D7CEH4 | http://www.amazon.co.uk/13-Piece-Train-Set-Ideal/dp/B0173N6E4W'\n",
      " 'http://www.amazon.co.uk/Single-Head-Garden-Lights-Lamppost-Layout/dp/B008XCSHCA | http://www.amazon.co.uk/Model-Scene-Gas-Lamp-Posts/dp/B006MGB90G | http://www.amazon.co.uk/12pcs-1-2-inch-Scenery-Landscape/dp/B008S8NHYM | http://www.amazon.co.uk/douself-100Pcs-OO-Scale-Passenger/dp/B00GRUD8W4'\n",
      " 'http://www.amazon.co.uk/Chuggington | http://www.amazon.co.uk/Learning-Chuggington | http://www.amazon.co.uk/Chuggington | http://www.amazon.co.uk/Learning-Curve-Chuggington'\n",
      " nan]\n",
      "\tRange of length :  3  to  345\n",
      "\tMissing Values :  1744\n"
     ]
    }
   ],
   "source": [
    "# Analyze URLs of the next bought product \n",
    "\n",
    "ColSummary('items_customers_buy_after_viewing_this_item')"
   ]
  },
  {
   "cell_type": "code",
   "execution_count": 18,
   "id": "1e44d860",
   "metadata": {
    "execution": {
     "iopub.execute_input": "2022-03-13T13:47:32.964919Z",
     "iopub.status.busy": "2022-03-13T13:47:32.961215Z",
     "iopub.status.idle": "2022-03-13T13:47:32.974716Z",
     "shell.execute_reply": "2022-03-13T13:47:32.975419Z",
     "shell.execute_reply.started": "2022-03-13T13:26:49.710054Z"
    },
    "papermill": {
     "duration": 0.072334,
     "end_time": "2022-03-13T13:47:32.975623",
     "exception": false,
     "start_time": "2022-03-13T13:47:32.903289",
     "status": "completed"
    },
    "tags": []
   },
   "outputs": [
    {
     "name": "stdout",
     "output_type": "stream",
     "text": [
      "\n",
      "CUSTOMER_QUESTIONS_AND_ANSWERS ANALYSIS\n",
      "\tTotal number of values :  5603\n",
      "\tTotal number of unique values :  374\n",
      "\tUnique values :  ['Does this catalogue detail all the previous Hornby products please? // HiThe 2014 catalogue does indeed detail previous models but also includes new releases for 2014.You would be advised to purchase models as you need them to avoid them being discontinued in subsequent years…\\n    \\n      see more\\n    \\n  \\n  \\n    HiThe 2014 catalogue does indeed detail previous models but also includes new releases for 2014.You would be advised to purchase models as you need them to avoid them being discontinued in subsequent yearsHope this helps\\n    \\n      see less'\n",
      " \"What is the gauge of the track // Hi Paul.Truthfully, I'm not sure. But it's very much alike to a 00 gauge. But this train set isn't an add-on for an electric train set nor has nothing to do with one.I bought this for my 4 year old nephew as he adores trains but is far too young for an electric set. He was VERY happy with this though! | what is the layout of the tracks? // Its an oval shape layout\"\n",
      " \"is it possible to replace thr grain of wheat lamps with leds // Hi Pete. No it's not possible the main pole is to thin to take readily available LEDs wiring. I was hoping to do this myself but it would mean rewireing the LEDs with thin enough wire that I have not managed to track down yet. I will be trying by using the existing wire. Tricky job cutting the tops off the lantern and …\\n    \\n      see more\\n    \\n  \\n  \\n    Hi Pete. No it's not possible the main pole is to thin to take readily available LEDs wiring. I was hoping to do this myself but it would mean rewireing the LEDs with thin enough wire that I have not managed to track down yet. I will be trying by using the existing wire. Tricky job cutting the tops off the lantern and hoping I can pull enough wire through to solder the led back on. That I will be trying in the next few months. Hope I may have been some help, good luck. Derryck\\n    \\n      see less\"\n",
      " nan\n",
      " 'what is the difference between this model and the Green model for 14 plus age group // Hi,  Apart from some minor detailing I believe their is very little difference.                             Regards John,, Shop Amazon Ltd']\n",
      "\tRange of length :  3  to  3351\n",
      "\tMissing Values :  5229\n"
     ]
    }
   ],
   "source": [
    "# Analyze customer Qs \n",
    "ColSummary('customer_questions_and_answers')\n",
    "\n",
    "# There are a lot of missing values in this column\n",
    "# This is not unusual as customers might not have questions about each product"
   ]
  },
  {
   "cell_type": "code",
   "execution_count": 19,
   "id": "624dede8",
   "metadata": {
    "execution": {
     "iopub.execute_input": "2022-03-13T13:47:33.077127Z",
     "iopub.status.busy": "2022-03-13T13:47:33.075976Z",
     "iopub.status.idle": "2022-03-13T13:47:33.082360Z",
     "shell.execute_reply": "2022-03-13T13:47:33.082932Z",
     "shell.execute_reply.started": "2022-03-13T13:26:49.735282Z"
    },
    "papermill": {
     "duration": 0.057913,
     "end_time": "2022-03-13T13:47:33.083116",
     "exception": false,
     "start_time": "2022-03-13T13:47:33.025203",
     "status": "completed"
    },
    "tags": []
   },
   "outputs": [
    {
     "data": {
      "text/plain": [
       "(5603, 14)"
      ]
     },
     "execution_count": 19,
     "metadata": {},
     "output_type": "execute_result"
    }
   ],
   "source": [
    "# Final df shape after cleaning\n",
    "df.shape"
   ]
  },
  {
   "cell_type": "markdown",
   "id": "6950341e",
   "metadata": {
    "papermill": {
     "duration": 0.05276,
     "end_time": "2022-03-13T13:47:33.194496",
     "exception": false,
     "start_time": "2022-03-13T13:47:33.141736",
     "status": "completed"
    },
    "tags": []
   },
   "source": [
    "## Exploratory Data Analysis (EDA)\n",
    "After cleaning the data, we can run some exploratory analysis to understand the data better. I am going to simply follow my curiousity here."
   ]
  },
  {
   "cell_type": "markdown",
   "id": "754fb084",
   "metadata": {
    "papermill": {
     "duration": 0.044712,
     "end_time": "2022-03-13T13:47:33.285665",
     "exception": false,
     "start_time": "2022-03-13T13:47:33.240953",
     "status": "completed"
    },
    "tags": []
   },
   "source": [
    "<font color = 'blue'>\n",
    "<h2> Question 1. What are the most popular brands? </h2>\n",
    "\n",
    "There are multiple ways to define \"popular\". I'm going to explore 3 ways here:\n",
    "<ul>\n",
    "    <li>Number of products sold</li>\n",
    "<li>Total sales by price </li>\n",
    "<li>Highest rated products </li>\n",
    "    </ul>"
   ]
  },
  {
   "cell_type": "code",
   "execution_count": 20,
   "id": "1fd7b934",
   "metadata": {
    "execution": {
     "iopub.execute_input": "2022-03-13T13:47:33.380630Z",
     "iopub.status.busy": "2022-03-13T13:47:33.379526Z",
     "iopub.status.idle": "2022-03-13T13:47:33.403877Z",
     "shell.execute_reply": "2022-03-13T13:47:33.404540Z",
     "shell.execute_reply.started": "2022-03-13T13:26:49.742601Z"
    },
    "papermill": {
     "duration": 0.073815,
     "end_time": "2022-03-13T13:47:33.404797",
     "exception": false,
     "start_time": "2022-03-13T13:47:33.330982",
     "status": "completed"
    },
    "tags": []
   },
   "outputs": [
    {
     "data": {
      "text/html": [
       "<div>\n",
       "<style scoped>\n",
       "    .dataframe tbody tr th:only-of-type {\n",
       "        vertical-align: middle;\n",
       "    }\n",
       "\n",
       "    .dataframe tbody tr th {\n",
       "        vertical-align: top;\n",
       "    }\n",
       "\n",
       "    .dataframe thead th {\n",
       "        text-align: right;\n",
       "    }\n",
       "</style>\n",
       "<table border=\"1\" class=\"dataframe\">\n",
       "  <thead>\n",
       "    <tr style=\"text-align: right;\">\n",
       "      <th></th>\n",
       "      <th>product_name</th>\n",
       "    </tr>\n",
       "    <tr>\n",
       "      <th>manufacturer</th>\n",
       "      <th></th>\n",
       "    </tr>\n",
       "  </thead>\n",
       "  <tbody>\n",
       "    <tr>\n",
       "      <th>Oxford Diecast</th>\n",
       "      <td>97</td>\n",
       "    </tr>\n",
       "    <tr>\n",
       "      <th>Disney</th>\n",
       "      <td>95</td>\n",
       "    </tr>\n",
       "    <tr>\n",
       "      <th>MyTinyWorld</th>\n",
       "      <td>92</td>\n",
       "    </tr>\n",
       "    <tr>\n",
       "      <th>LEGO</th>\n",
       "      <td>70</td>\n",
       "    </tr>\n",
       "    <tr>\n",
       "      <th>Mattel</th>\n",
       "      <td>69</td>\n",
       "    </tr>\n",
       "    <tr>\n",
       "      <th>...</th>\n",
       "      <td>...</td>\n",
       "    </tr>\n",
       "    <tr>\n",
       "      <th>JR Propo</th>\n",
       "      <td>1</td>\n",
       "    </tr>\n",
       "    <tr>\n",
       "      <th>JJS Direct UK</th>\n",
       "      <td>1</td>\n",
       "    </tr>\n",
       "    <tr>\n",
       "      <th>J R Jigsaws</th>\n",
       "      <td>1</td>\n",
       "    </tr>\n",
       "    <tr>\n",
       "      <th>Iron Man 3- Marvel</th>\n",
       "      <td>1</td>\n",
       "    </tr>\n",
       "    <tr>\n",
       "      <th>|MFG</th>\n",
       "      <td>1</td>\n",
       "    </tr>\n",
       "  </tbody>\n",
       "</table>\n",
       "<p>1772 rows × 1 columns</p>\n",
       "</div>"
      ],
      "text/plain": [
       "                    product_name\n",
       "manufacturer                    \n",
       "Oxford Diecast                97\n",
       "Disney                        95\n",
       "MyTinyWorld                   92\n",
       "LEGO                          70\n",
       "Mattel                        69\n",
       "...                          ...\n",
       "JR Propo                       1\n",
       "JJS Direct UK                  1\n",
       "J R Jigsaws                    1\n",
       "Iron Man 3- Marvel             1\n",
       "|MFG                           1\n",
       "\n",
       "[1772 rows x 1 columns]"
      ]
     },
     "execution_count": 20,
     "metadata": {},
     "output_type": "execute_result"
    }
   ],
   "source": [
    "# number of products sold\n",
    "\n",
    "df[['product_name','manufacturer']].groupby('manufacturer').count().sort_values(by = \"product_name\", ascending = False)"
   ]
  },
  {
   "cell_type": "code",
   "execution_count": 21,
   "id": "0d740045",
   "metadata": {
    "execution": {
     "iopub.execute_input": "2022-03-13T13:47:33.500935Z",
     "iopub.status.busy": "2022-03-13T13:47:33.500105Z",
     "iopub.status.idle": "2022-03-13T13:47:33.527945Z",
     "shell.execute_reply": "2022-03-13T13:47:33.527250Z",
     "shell.execute_reply.started": "2022-03-13T13:26:49.771594Z"
    },
    "papermill": {
     "duration": 0.078423,
     "end_time": "2022-03-13T13:47:33.528110",
     "exception": false,
     "start_time": "2022-03-13T13:47:33.449687",
     "status": "completed"
    },
    "tags": []
   },
   "outputs": [
    {
     "data": {
      "text/html": [
       "<div>\n",
       "<style scoped>\n",
       "    .dataframe tbody tr th:only-of-type {\n",
       "        vertical-align: middle;\n",
       "    }\n",
       "\n",
       "    .dataframe tbody tr th {\n",
       "        vertical-align: top;\n",
       "    }\n",
       "\n",
       "    .dataframe thead th {\n",
       "        text-align: right;\n",
       "    }\n",
       "</style>\n",
       "<table border=\"1\" class=\"dataframe\">\n",
       "  <thead>\n",
       "    <tr style=\"text-align: right;\">\n",
       "      <th></th>\n",
       "      <th>price</th>\n",
       "    </tr>\n",
       "    <tr>\n",
       "      <th>manufacturer</th>\n",
       "      <th></th>\n",
       "    </tr>\n",
       "  </thead>\n",
       "  <tbody>\n",
       "    <tr>\n",
       "      <th>Oxford Diecast</th>\n",
       "      <td>630.99</td>\n",
       "    </tr>\n",
       "    <tr>\n",
       "      <th>Disney</th>\n",
       "      <td>383.87</td>\n",
       "    </tr>\n",
       "    <tr>\n",
       "      <th>LEGO</th>\n",
       "      <td>273.77</td>\n",
       "    </tr>\n",
       "    <tr>\n",
       "      <th>MyTinyWorld</th>\n",
       "      <td>265.21</td>\n",
       "    </tr>\n",
       "    <tr>\n",
       "      <th>Papo</th>\n",
       "      <td>250.12</td>\n",
       "    </tr>\n",
       "    <tr>\n",
       "      <th>...</th>\n",
       "      <td>...</td>\n",
       "    </tr>\n",
       "    <tr>\n",
       "      <th>Fundex</th>\n",
       "      <td>0.00</td>\n",
       "    </tr>\n",
       "    <tr>\n",
       "      <th>Spektrum</th>\n",
       "      <td>0.00</td>\n",
       "    </tr>\n",
       "    <tr>\n",
       "      <th>Specialist</th>\n",
       "      <td>0.00</td>\n",
       "    </tr>\n",
       "    <tr>\n",
       "      <th>Spear's Games</th>\n",
       "      <td>0.00</td>\n",
       "    </tr>\n",
       "    <tr>\n",
       "      <th>13</th>\n",
       "      <td>0.00</td>\n",
       "    </tr>\n",
       "  </tbody>\n",
       "</table>\n",
       "<p>1772 rows × 1 columns</p>\n",
       "</div>"
      ],
      "text/plain": [
       "                 price\n",
       "manufacturer          \n",
       "Oxford Diecast  630.99\n",
       "Disney          383.87\n",
       "LEGO            273.77\n",
       "MyTinyWorld     265.21\n",
       "Papo            250.12\n",
       "...                ...\n",
       "Fundex            0.00\n",
       "Spektrum          0.00\n",
       "Specialist        0.00\n",
       "Spear's Games     0.00\n",
       "13                0.00\n",
       "\n",
       "[1772 rows x 1 columns]"
      ]
     },
     "execution_count": 21,
     "metadata": {},
     "output_type": "execute_result"
    }
   ],
   "source": [
    "# Total sales by price\n",
    "\n",
    "df[['price','manufacturer']].groupby('manufacturer').sum().sort_values(by = \"price\", ascending = False)"
   ]
  },
  {
   "cell_type": "code",
   "execution_count": 22,
   "id": "8b87d9f3",
   "metadata": {
    "execution": {
     "iopub.execute_input": "2022-03-13T13:47:33.627623Z",
     "iopub.status.busy": "2022-03-13T13:47:33.626366Z",
     "iopub.status.idle": "2022-03-13T13:47:33.658046Z",
     "shell.execute_reply": "2022-03-13T13:47:33.658686Z",
     "shell.execute_reply.started": "2022-03-13T13:26:49.799115Z"
    },
    "papermill": {
     "duration": 0.08494,
     "end_time": "2022-03-13T13:47:33.658896",
     "exception": false,
     "start_time": "2022-03-13T13:47:33.573956",
     "status": "completed"
    },
    "tags": []
   },
   "outputs": [
    {
     "data": {
      "text/html": [
       "<div>\n",
       "<style scoped>\n",
       "    .dataframe tbody tr th:only-of-type {\n",
       "        vertical-align: middle;\n",
       "    }\n",
       "\n",
       "    .dataframe tbody tr th {\n",
       "        vertical-align: top;\n",
       "    }\n",
       "\n",
       "    .dataframe thead th {\n",
       "        text-align: right;\n",
       "    }\n",
       "</style>\n",
       "<table border=\"1\" class=\"dataframe\">\n",
       "  <thead>\n",
       "    <tr style=\"text-align: right;\">\n",
       "      <th></th>\n",
       "      <th>average_review_rating</th>\n",
       "      <th>number_of_reviews</th>\n",
       "    </tr>\n",
       "    <tr>\n",
       "      <th>manufacturer</th>\n",
       "      <th></th>\n",
       "      <th></th>\n",
       "    </tr>\n",
       "  </thead>\n",
       "  <tbody>\n",
       "    <tr>\n",
       "      <th>Dodolive</th>\n",
       "      <td>5.0</td>\n",
       "      <td>13.0</td>\n",
       "    </tr>\n",
       "    <tr>\n",
       "      <th>Teddy Hermann</th>\n",
       "      <td>5.0</td>\n",
       "      <td>12.0</td>\n",
       "    </tr>\n",
       "    <tr>\n",
       "      <th>BSP</th>\n",
       "      <td>5.0</td>\n",
       "      <td>11.0</td>\n",
       "    </tr>\n",
       "    <tr>\n",
       "      <th>Elizabeth Arden</th>\n",
       "      <td>5.0</td>\n",
       "      <td>10.0</td>\n",
       "    </tr>\n",
       "    <tr>\n",
       "      <th>Kato</th>\n",
       "      <td>5.0</td>\n",
       "      <td>10.0</td>\n",
       "    </tr>\n",
       "    <tr>\n",
       "      <th>...</th>\n",
       "      <td>...</td>\n",
       "      <td>...</td>\n",
       "    </tr>\n",
       "    <tr>\n",
       "      <th>Cavendish Trading</th>\n",
       "      <td>3.3</td>\n",
       "      <td>3.0</td>\n",
       "    </tr>\n",
       "    <tr>\n",
       "      <th>BINGWAN</th>\n",
       "      <td>3.0</td>\n",
       "      <td>2.0</td>\n",
       "    </tr>\n",
       "    <tr>\n",
       "      <th>Inflatable Santa</th>\n",
       "      <td>3.0</td>\n",
       "      <td>2.0</td>\n",
       "    </tr>\n",
       "    <tr>\n",
       "      <th>The Original Glowstars</th>\n",
       "      <td>3.0</td>\n",
       "      <td>2.0</td>\n",
       "    </tr>\n",
       "    <tr>\n",
       "      <th>Hutter Trade GmbH + Co KG</th>\n",
       "      <td>NaN</td>\n",
       "      <td>0.0</td>\n",
       "    </tr>\n",
       "  </tbody>\n",
       "</table>\n",
       "<p>1772 rows × 2 columns</p>\n",
       "</div>"
      ],
      "text/plain": [
       "                           average_review_rating  number_of_reviews\n",
       "manufacturer                                                       \n",
       "Dodolive                                     5.0               13.0\n",
       "Teddy Hermann                                5.0               12.0\n",
       "BSP                                          5.0               11.0\n",
       "Elizabeth Arden                              5.0               10.0\n",
       "Kato                                         5.0               10.0\n",
       "...                                          ...                ...\n",
       "Cavendish Trading                            3.3                3.0\n",
       "BINGWAN                                      3.0                2.0\n",
       "Inflatable Santa                             3.0                2.0\n",
       "The Original Glowstars                       3.0                2.0\n",
       "Hutter Trade GmbH + Co KG                    NaN                0.0\n",
       "\n",
       "[1772 rows x 2 columns]"
      ]
     },
     "execution_count": 22,
     "metadata": {},
     "output_type": "execute_result"
    }
   ],
   "source": [
    "# highest rated\n",
    "\n",
    "ratings_df = df[['average_review_rating', 'number_of_reviews','manufacturer']].groupby('manufacturer').agg({'average_review_rating':'mean', 'number_of_reviews': \"sum\"\n",
    "                                                                                      }).sort_values(by = [\"average_review_rating\",\"number_of_reviews\"], ascending = False)\n",
    "ratings_df"
   ]
  },
  {
   "cell_type": "code",
   "execution_count": 23,
   "id": "25b4b14e",
   "metadata": {
    "execution": {
     "iopub.execute_input": "2022-03-13T13:47:33.763326Z",
     "iopub.status.busy": "2022-03-13T13:47:33.759321Z",
     "iopub.status.idle": "2022-03-13T13:47:33.771823Z",
     "shell.execute_reply": "2022-03-13T13:47:33.772598Z",
     "shell.execute_reply.started": "2022-03-13T13:26:49.828532Z"
    },
    "papermill": {
     "duration": 0.063988,
     "end_time": "2022-03-13T13:47:33.772884",
     "exception": false,
     "start_time": "2022-03-13T13:47:33.708896",
     "status": "completed"
    },
    "tags": []
   },
   "outputs": [
    {
     "name": "stdout",
     "output_type": "stream",
     "text": [
      "\n",
      " Brands with perfect 5 rating: 669\n",
      "\n",
      " Brands with perfect 5 rating and substantial number of reviews: 22 \n",
      "\n",
      "\n"
     ]
    }
   ],
   "source": [
    "# checking number of manufacturers with 5 rating\n",
    "print(\"\\n Brands with perfect 5 rating:\", len(ratings_df[ratings_df[\"average_review_rating\"]==5.0]))\n",
    "\n",
    "# checking number of 5-rated manufactureres which have > 5 number of reviews      \n",
    "print(\"\\n Brands with perfect 5 rating and substantial number of reviews:\",\n",
    "      len(ratings_df[ratings_df[\"average_review_rating\"]==5.0][ratings_df[ratings_df[\"average_review_rating\"]==5.0]\n",
    "                                                               [\"number_of_reviews\"]>5]),\"\\n\\n\")"
   ]
  },
  {
   "cell_type": "markdown",
   "id": "9f404776",
   "metadata": {
    "papermill": {
     "duration": 0.04922,
     "end_time": "2022-03-13T13:47:33.869017",
     "exception": false,
     "start_time": "2022-03-13T13:47:33.819797",
     "status": "completed"
    },
    "tags": []
   },
   "source": [
    "<font color = 'blue'>\n",
    "    <h3> Results </h3>\n",
    "\n",
    "- Oxford Diecast, Disney and MyTinyWorld have sold the most products\n",
    "- Oxfort Diecast has had the highest sales by far almost double the second highest\n",
    "- 669 manufacturers have perfect 5 rating but only 22 have been rated 5 on average by 5 or more customers"
   ]
  },
  {
   "cell_type": "markdown",
   "id": "d5ef5187",
   "metadata": {
    "papermill": {
     "duration": 0.045212,
     "end_time": "2022-03-13T13:47:33.964018",
     "exception": false,
     "start_time": "2022-03-13T13:47:33.918806",
     "status": "completed"
    },
    "tags": []
   },
   "source": [
    "***"
   ]
  },
  {
   "cell_type": "markdown",
   "id": "2b4678f2",
   "metadata": {
    "papermill": {
     "duration": 0.046783,
     "end_time": "2022-03-13T13:47:34.056913",
     "exception": false,
     "start_time": "2022-03-13T13:47:34.010130",
     "status": "completed"
    },
    "tags": []
   },
   "source": [
    "\n",
    "<font color = 'blue'>\n",
    "<h2> Question 2. What are some keywords that are repeatedly used by brands in descriptions? </h2>"
   ]
  },
  {
   "cell_type": "code",
   "execution_count": 24,
   "id": "1bd8b293",
   "metadata": {
    "execution": {
     "iopub.execute_input": "2022-03-13T13:47:34.152872Z",
     "iopub.status.busy": "2022-03-13T13:47:34.152085Z",
     "iopub.status.idle": "2022-03-13T13:47:34.160713Z",
     "shell.execute_reply": "2022-03-13T13:47:34.161293Z",
     "shell.execute_reply.started": "2022-03-13T13:26:49.841761Z"
    },
    "papermill": {
     "duration": 0.058503,
     "end_time": "2022-03-13T13:47:34.161489",
     "exception": false,
     "start_time": "2022-03-13T13:47:34.102986",
     "status": "completed"
    },
    "tags": []
   },
   "outputs": [],
   "source": [
    "def show_wordcloud(data, title = None):\n",
    "    stopwords = set(STOPWORDS)\n",
    "    mask = np.array(Image.open(\"../input/amazon/amazon.png\"))\n",
    "    wordcloud = WordCloud(\n",
    "        background_color='white',\n",
    "        stopwords = stopwords,\n",
    "        mask = mask,\n",
    "        max_words=200,\n",
    "        max_font_size=40, \n",
    "        scale=1,\n",
    "        random_state=1\n",
    ").generate(\" \".join(data))\n",
    "\n",
    "    fig = plt.figure(1, figsize=(25, 15))\n",
    "    plt.axis('off')\n",
    "    if title: \n",
    "        fig.suptitle(title, fontsize=20)\n",
    "        fig.subplots_adjust(top=2.3)\n",
    "\n",
    "    plt.imshow(wordcloud)\n",
    "    plt.show()"
   ]
  },
  {
   "cell_type": "code",
   "execution_count": 25,
   "id": "a26d9f58",
   "metadata": {
    "execution": {
     "iopub.execute_input": "2022-03-13T13:47:34.257420Z",
     "iopub.status.busy": "2022-03-13T13:47:34.256308Z",
     "iopub.status.idle": "2022-03-13T13:47:39.276382Z",
     "shell.execute_reply": "2022-03-13T13:47:39.276920Z",
     "shell.execute_reply.started": "2022-03-13T13:26:49.849887Z"
    },
    "papermill": {
     "duration": 5.069546,
     "end_time": "2022-03-13T13:47:39.277111",
     "exception": false,
     "start_time": "2022-03-13T13:47:34.207565",
     "status": "completed"
    },
    "tags": []
   },
   "outputs": [
    {
     "data": {
      "image/png": "[encoded data removed]",
      "text/plain": [
       "<Figure size 1800x1080 with 1 Axes>"
      ]
     },
     "metadata": {
      "needs_background": "light"
     },
     "output_type": "display_data"
    }
   ],
   "source": [
    "col = 'description'\n",
    "wordcloud_df = df[df[col].notna()]\n",
    "show_wordcloud(wordcloud_df[col].values)"
   ]
  },
  {
   "cell_type": "markdown",
   "id": "56693a1e",
   "metadata": {
    "papermill": {
     "duration": 0.052358,
     "end_time": "2022-03-13T13:47:39.382777",
     "exception": false,
     "start_time": "2022-03-13T13:47:39.330419",
     "status": "completed"
    },
    "tags": []
   },
   "source": [
    "<font color = 'blue'>\n",
    "    <h3> Results </h3>\n",
    "\n",
    "Some interesting words repeated across descriptions are: Suitable, high quality, classic, great, feature, card"
   ]
  },
  {
   "cell_type": "markdown",
   "id": "42825056",
   "metadata": {
    "papermill": {
     "duration": 0.052296,
     "end_time": "2022-03-13T13:47:39.488336",
     "exception": false,
     "start_time": "2022-03-13T13:47:39.436040",
     "status": "completed"
    },
    "tags": []
   },
   "source": [
    "***"
   ]
  },
  {
   "cell_type": "markdown",
   "id": "8bd83070",
   "metadata": {
    "papermill": {
     "duration": 0.052706,
     "end_time": "2022-03-13T13:47:39.593888",
     "exception": false,
     "start_time": "2022-03-13T13:47:39.541182",
     "status": "completed"
    },
    "tags": []
   },
   "source": [
    "<font color = 'blue'>\n",
    "<h2> Question 3. Predict the amazon categories using description? </h2>"
   ]
  },
  {
   "cell_type": "code",
   "execution_count": 26,
   "id": "ef1b057a",
   "metadata": {
    "execution": {
     "iopub.execute_input": "2022-03-13T13:47:39.706679Z",
     "iopub.status.busy": "2022-03-13T13:47:39.705571Z",
     "iopub.status.idle": "2022-03-13T13:47:39.708077Z",
     "shell.execute_reply": "2022-03-13T13:47:39.708589Z",
     "shell.execute_reply.started": "2022-03-13T13:26:54.149023Z"
    },
    "papermill": {
     "duration": 0.061851,
     "end_time": "2022-03-13T13:47:39.708779",
     "exception": false,
     "start_time": "2022-03-13T13:47:39.646928",
     "status": "completed"
    },
    "tags": []
   },
   "outputs": [],
   "source": [
    "def TextClassifier(text_data,label):\n",
    "    \"function to create text classifier for a set of data and labels\"\n",
    "    text_clf = Pipeline([ ('vect', CountVectorizer()), ('tfidf', TfidfTransformer()),('clf', MultinomialNB())])\n",
    "    text_clf = text_clf.fit(text_data, label)\n",
    "    return text_clf"
   ]
  },
  {
   "cell_type": "code",
   "execution_count": 27,
   "id": "aa0f1ef7",
   "metadata": {
    "execution": {
     "iopub.execute_input": "2022-03-13T13:47:39.827165Z",
     "iopub.status.busy": "2022-03-13T13:47:39.826329Z",
     "iopub.status.idle": "2022-03-13T13:47:39.849609Z",
     "shell.execute_reply": "2022-03-13T13:47:39.850166Z",
     "shell.execute_reply.started": "2022-03-13T13:26:54.155504Z"
    },
    "papermill": {
     "duration": 0.088768,
     "end_time": "2022-03-13T13:47:39.850370",
     "exception": false,
     "start_time": "2022-03-13T13:47:39.761602",
     "status": "completed"
    },
    "tags": []
   },
   "outputs": [],
   "source": [
    "# defining the target variable\n",
    "\n",
    "df['category'] = df['amazon_category_and_sub_category'].apply(lambda x: x[0])\n",
    "\n",
    "categorytolabel = {}\n",
    "i = 1\n",
    "for item in df['category'].unique():\n",
    "    categorytolabel[item] = i\n",
    "    i = i+1\n",
    "\n",
    "df['category_labels'] = df['category'].map(categorytolabel)\n",
    "\n",
    "df = df.groupby('category').filter(lambda x : len(x)>30)\n",
    "df = df.drop(index = list(df[df['category']=='nan'].index))"
   ]
  },
  {
   "cell_type": "code",
   "execution_count": 28,
   "id": "82054428",
   "metadata": {
    "execution": {
     "iopub.execute_input": "2022-03-13T13:47:39.966691Z",
     "iopub.status.busy": "2022-03-13T13:47:39.960756Z",
     "iopub.status.idle": "2022-03-13T13:47:42.712518Z",
     "shell.execute_reply": "2022-03-13T13:47:42.711897Z",
     "shell.execute_reply.started": "2022-03-13T13:26:54.185693Z"
    },
    "papermill": {
     "duration": 2.808362,
     "end_time": "2022-03-13T13:47:42.712697",
     "exception": false,
     "start_time": "2022-03-13T13:47:39.904335",
     "status": "completed"
    },
    "tags": []
   },
   "outputs": [
    {
     "name": "stdout",
     "output_type": "stream",
     "text": [
      "\n",
      "\n",
      " ********* CLASSIFICATION ACCURACY BASED ON PRODUCT INFORMATION *********\n",
      "\n",
      "                            precision    recall  f1-score   support\n",
      "\n",
      "            Arts & Crafts       0.90      0.98      0.94       652\n",
      "      Baby & Toddler Toys       0.00      0.00      0.00        59\n",
      "      Characters & Brands       0.52      0.17      0.26       503\n",
      "  Die-Cast & Toy Vehicles       1.00      0.27      0.42       498\n",
      "      Dolls & Accessories       0.99      0.59      0.74       254\n",
      "              Fancy Dress       1.00      0.42      0.59       348\n",
      "       Figures & Playsets       0.68      0.84      0.76       541\n",
      "                    Games       0.49      0.97      0.65       611\n",
      "                  Hobbies       0.52      0.85      0.64       654\n",
      "        Jigsaws & Puzzles       0.00      0.00      0.00       157\n",
      "           Party Supplies       0.72      0.99      0.84       662\n",
      "Puppets & Puppet Theatres       0.00      0.00      0.00        71\n",
      "    Sports Toys & Outdoor       1.00      0.01      0.02       174\n",
      "\n",
      "                 accuracy                           0.66      5184\n",
      "                macro avg       0.60      0.47      0.45      5184\n",
      "             weighted avg       0.70      0.66      0.60      5184\n",
      "\n",
      "\n",
      "\n",
      " ********* CLASSIFICATION ACCURACY BASED ON PRODUCT DESCRIPTION *********\n",
      "\n",
      "                            precision    recall  f1-score   support\n",
      "\n",
      "            Arts & Crafts       0.81      0.88      0.84       652\n",
      "      Baby & Toddler Toys       0.00      0.00      0.00        59\n",
      "      Characters & Brands       0.77      0.62      0.68       503\n",
      "  Die-Cast & Toy Vehicles       0.92      0.89      0.90       498\n",
      "      Dolls & Accessories       1.00      0.60      0.75       254\n",
      "              Fancy Dress       0.98      0.75      0.85       348\n",
      "       Figures & Playsets       0.85      0.88      0.87       541\n",
      "                    Games       0.62      0.90      0.74       611\n",
      "                  Hobbies       0.82      0.76      0.79       654\n",
      "        Jigsaws & Puzzles       1.00      0.03      0.05       157\n",
      "           Party Supplies       0.59      0.98      0.74       662\n",
      "Puppets & Puppet Theatres       1.00      0.10      0.18        71\n",
      "    Sports Toys & Outdoor       1.00      0.07      0.13       174\n",
      "\n",
      "                 accuracy                           0.76      5184\n",
      "                macro avg       0.80      0.57      0.58      5184\n",
      "             weighted avg       0.80      0.76      0.73      5184\n",
      "\n"
     ]
    }
   ],
   "source": [
    "# running the model and comparing the predictions\n",
    "text_df = df[['product_information','product_description']]\n",
    "\n",
    "for col in text_df.columns:\n",
    "    text_df[col] = text_df[col].fillna(value='None')\n",
    "    model = TextClassifier(text_df[col],df['category_labels'])\n",
    "    text_df[col+'_classification'] = model.predict(text_df[col])\n",
    "\n",
    "text_df['product_information_classification'] = text_df['product_information_classification'].map({value : key for (key, value) in categorytolabel.items()})\n",
    "text_df['product_description_classification'] = text_df['product_description_classification'].map({value : key for (key, value) in categorytolabel.items()})\n",
    "df = df.merge(text_df[['product_information_classification','product_description_classification']], how = 'left', left_index = True, right_index = True)\n",
    "\n",
    "\n",
    "from sklearn.metrics import classification_report\n",
    "print(\"\\n\\n ********* CLASSIFICATION ACCURACY BASED ON PRODUCT INFORMATION *********\")\n",
    "print(\"\\n\", classification_report(df['category'], df['product_information_classification'] ))\n",
    "print(\"\\n\\n ********* CLASSIFICATION ACCURACY BASED ON PRODUCT DESCRIPTION *********\")\n",
    "print(\"\\n\", classification_report(df['category'], df['product_description_classification'] ))"
   ]
  },
  {
   "cell_type": "markdown",
   "id": "afd7cd50",
   "metadata": {
    "papermill": {
     "duration": 0.054666,
     "end_time": "2022-03-13T13:47:42.821413",
     "exception": false,
     "start_time": "2022-03-13T13:47:42.766747",
     "status": "completed"
    },
    "tags": []
   },
   "source": [
    "<font color = \"blue\">\n",
    "<h3>Results</h3>\n",
    "Product Description is a better predictor of amazon category compared to product information"
   ]
  },
  {
   "cell_type": "markdown",
   "id": "dcdc9768",
   "metadata": {
    "papermill": {
     "duration": 0.053894,
     "end_time": "2022-03-13T13:47:42.929360",
     "exception": false,
     "start_time": "2022-03-13T13:47:42.875466",
     "status": "completed"
    },
    "tags": []
   },
   "source": [
    "***"
   ]
  }
 ],
 "metadata": {
  "kernelspec": {
   "display_name": "Python 3",
   "language": "python",
   "name": "python3"
  },
  "language_info": {
   "codemirror_mode": {
    "name": "ipython",
    "version": 3
   },
   "file_extension": ".py",
   "mimetype": "text/x-python",
   "name": "python",
   "nbconvert_exporter": "python",
   "pygments_lexer": "ipython3",
   "version": "3.7.12"
  },
  "papermill": {
   "default_parameters": {},
   "duration": 27.953767,
   "end_time": "2022-03-13T13:47:43.796074",
   "environment_variables": {},
   "exception": null,
   "input_path": "__notebook__.ipynb",
   "output_path": "__notebook__.ipynb",
   "parameters": {},
   "start_time": "2022-03-13T13:47:15.842307",
   "version": "2.3.3"
  }
 },
 "nbformat": 4,
 "nbformat_minor": 5
}
