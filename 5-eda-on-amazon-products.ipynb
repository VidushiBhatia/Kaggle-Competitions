{
 "cells": [
  {
   "cell_type": "code",
   "execution_count": 1,
   "id": "73bcc37b",
   "metadata": {
    "_cell_guid": "b1076dfc-b9ad-4769-8c92-a6c4dae69d19",
    "_uuid": "8f2839f25d086af736a60e9eeb907d3b93b6e0e5",
    "execution": {
     "iopub.execute_input": "2022-02-18T15:40:21.112638Z",
     "iopub.status.busy": "2022-02-18T15:40:21.111333Z",
     "iopub.status.idle": "2022-02-18T15:40:21.131952Z",
     "shell.execute_reply": "2022-02-18T15:40:21.132589Z",
     "shell.execute_reply.started": "2022-02-18T15:36:47.029632Z"
    },
    "papermill": {
     "duration": 0.043383,
     "end_time": "2022-02-18T15:40:21.132937",
     "exception": false,
     "start_time": "2022-02-18T15:40:21.089554",
     "status": "completed"
    },
    "tags": []
   },
   "outputs": [
    {
     "name": "stdout",
     "output_type": "stream",
     "text": [
      "/kaggle/input/10000-amazon-products-dataset/Amazon_Products.csv\n"
     ]
    }
   ],
   "source": [
    "# This Python 3 environment comes with many helpful analytics libraries installed\n",
    "# It is defined by the kaggle/python Docker image: https://github.com/kaggle/docker-python\n",
    "# For example, here's several helpful packages to load\n",
    "\n",
    "import numpy as np # linear algebra\n",
    "import pandas as pd # data processing, CSV file I/O (e.g. pd.read_csv)\n",
    "\n",
    "# Input data files are available in the read-only \"../input/\" directory\n",
    "# For example, running this (by clicking run or pressing Shift+Enter) will list all files under the input directory\n",
    "\n",
    "import os\n",
    "for dirname, _, filenames in os.walk('/kaggle/input'):\n",
    "    for filename in filenames:\n",
    "        print(os.path.join(dirname, filename))\n",
    "\n",
    "# You can write up to 20GB to the current directory (/kaggle/working/) that gets preserved as output when you create a version using \"Save & Run All\" \n",
    "# You can also write temporary files to /kaggle/temp/, but they won't be saved outside of the current session"
   ]
  },
  {
   "cell_type": "markdown",
   "id": "a79e41c7",
   "metadata": {
    "papermill": {
     "duration": 0.017546,
     "end_time": "2022-02-18T15:40:21.168286",
     "exception": false,
     "start_time": "2022-02-18T15:40:21.150740",
     "status": "completed"
    },
    "tags": []
   },
   "source": [
    "```\n",
    "1) Pick a dataset\n",
    "\n",
    "2) Pose at least three questions related to business or real-world applications of how the data could be used.\n",
    "\n",
    "3) Create a Jupyter Notebook, using any associated packages you'd like, to:\n",
    "\n",
    "    a. Prepare data:\n",
    "        - Gather necessary data to answer your questions\n",
    "        - Handle categorical and missing data\n",
    "        - Provide insight into the methods you chose and why you chose them\n",
    "    b. Analyze, Model, and Visualize\n",
    "        - Provide a clear connection between your business questions and how the data answers them\n",
    "4) Communicate your business insights:\n",
    "    - Create a Github repository to share your code and data wrangling/modeling techniques, with a technical audience in mind\n",
    "    - Create a blog post to share your questions and insights with a non-technical audience\n",
    "```"
   ]
  },
  {
   "cell_type": "code",
   "execution_count": 2,
   "id": "d7bec886",
   "metadata": {
    "execution": {
     "iopub.execute_input": "2022-02-18T15:40:21.207085Z",
     "iopub.status.busy": "2022-02-18T15:40:21.205039Z",
     "iopub.status.idle": "2022-02-18T15:40:22.735181Z",
     "shell.execute_reply": "2022-02-18T15:40:22.735724Z",
     "shell.execute_reply.started": "2022-02-18T15:36:47.050845Z"
    },
    "papermill": {
     "duration": 1.550837,
     "end_time": "2022-02-18T15:40:22.735927",
     "exception": false,
     "start_time": "2022-02-18T15:40:21.185090",
     "status": "completed"
    },
    "tags": []
   },
   "outputs": [
    {
     "data": {
      "text/html": [
       "<div>\n",
       "<style scoped>\n",
       "    .dataframe tbody tr th:only-of-type {\n",
       "        vertical-align: middle;\n",
       "    }\n",
       "\n",
       "    .dataframe tbody tr th {\n",
       "        vertical-align: top;\n",
       "    }\n",
       "\n",
       "    .dataframe thead th {\n",
       "        text-align: right;\n",
       "    }\n",
       "</style>\n",
       "<table border=\"1\" class=\"dataframe\">\n",
       "  <thead>\n",
       "    <tr style=\"text-align: right;\">\n",
       "      <th></th>\n",
       "      <th>uniq_id</th>\n",
       "      <th>product_name</th>\n",
       "      <th>manufacturer</th>\n",
       "      <th>price</th>\n",
       "      <th>number_available_in_stock</th>\n",
       "      <th>number_of_reviews</th>\n",
       "      <th>number_of_answered_questions</th>\n",
       "      <th>average_review_rating</th>\n",
       "      <th>amazon_category_and_sub_category</th>\n",
       "      <th>description</th>\n",
       "      <th>...</th>\n",
       "      <th>Unnamed: 885</th>\n",
       "      <th>Unnamed: 886</th>\n",
       "      <th>Unnamed: 887</th>\n",
       "      <th>Unnamed: 888</th>\n",
       "      <th>Unnamed: 889</th>\n",
       "      <th>Unnamed: 890</th>\n",
       "      <th>Unnamed: 891</th>\n",
       "      <th>Unnamed: 892</th>\n",
       "      <th>Unnamed: 893</th>\n",
       "      <th>Unnamed: 894</th>\n",
       "    </tr>\n",
       "  </thead>\n",
       "  <tbody>\n",
       "    <tr>\n",
       "      <th>0</th>\n",
       "      <td>eac7efa5dbd3d667f26eb3d3ab504464</td>\n",
       "      <td>Hornby 2014 Catalogue</td>\n",
       "      <td>Hornby</td>\n",
       "      <td>£3.42</td>\n",
       "      <td>5 new</td>\n",
       "      <td>15</td>\n",
       "      <td>1</td>\n",
       "      <td>4.9 out of 5 stars</td>\n",
       "      <td>Hobbies &gt; Model Trains &amp; Railway Sets &gt; Rail V...</td>\n",
       "      <td>Product Description Hornby 2014 Catalogue Box ...</td>\n",
       "      <td>...</td>\n",
       "      <td>NaN</td>\n",
       "      <td>NaN</td>\n",
       "      <td>NaN</td>\n",
       "      <td>NaN</td>\n",
       "      <td>NaN</td>\n",
       "      <td>NaN</td>\n",
       "      <td>NaN</td>\n",
       "      <td>NaN</td>\n",
       "      <td>NaN</td>\n",
       "      <td>NaN</td>\n",
       "    </tr>\n",
       "    <tr>\n",
       "      <th>1</th>\n",
       "      <td>b17540ef7e86e461d37f3ae58b7b72ac</td>\n",
       "      <td>FunkyBuys® Large Christmas Holiday Express Fes...</td>\n",
       "      <td>FunkyBuys</td>\n",
       "      <td>£16.99</td>\n",
       "      <td>NaN</td>\n",
       "      <td>2</td>\n",
       "      <td>1</td>\n",
       "      <td>4.5 out of 5 stars</td>\n",
       "      <td>Hobbies &gt; Model Trains &amp; Railway Sets &gt; Rail V...</td>\n",
       "      <td>Size Name:Large FunkyBuys® Large Christmas Hol...</td>\n",
       "      <td>...</td>\n",
       "      <td>NaN</td>\n",
       "      <td>NaN</td>\n",
       "      <td>NaN</td>\n",
       "      <td>NaN</td>\n",
       "      <td>NaN</td>\n",
       "      <td>NaN</td>\n",
       "      <td>NaN</td>\n",
       "      <td>NaN</td>\n",
       "      <td>NaN</td>\n",
       "      <td>NaN</td>\n",
       "    </tr>\n",
       "    <tr>\n",
       "      <th>2</th>\n",
       "      <td>348f344247b0c1a935b1223072ef9d8a</td>\n",
       "      <td>CLASSIC TOY TRAIN SET TRACK CARRIAGES LIGHT EN...</td>\n",
       "      <td>ccf</td>\n",
       "      <td>£9.99</td>\n",
       "      <td>2 new</td>\n",
       "      <td>17</td>\n",
       "      <td>2</td>\n",
       "      <td>3.9 out of 5 stars</td>\n",
       "      <td>Hobbies &gt; Model Trains &amp; Railway Sets &gt; Rail V...</td>\n",
       "      <td>BIG CLASSIC TOY TRAIN SET TRACK CARRIAGE LIGHT...</td>\n",
       "      <td>...</td>\n",
       "      <td>NaN</td>\n",
       "      <td>NaN</td>\n",
       "      <td>NaN</td>\n",
       "      <td>NaN</td>\n",
       "      <td>NaN</td>\n",
       "      <td>NaN</td>\n",
       "      <td>NaN</td>\n",
       "      <td>NaN</td>\n",
       "      <td>NaN</td>\n",
       "      <td>NaN</td>\n",
       "    </tr>\n",
       "    <tr>\n",
       "      <th>3</th>\n",
       "      <td>e12b92dbb8eaee78b22965d2a9bbbd9f</td>\n",
       "      <td>HORNBY Coach R4410A BR Hawksworth Corridor 3rd</td>\n",
       "      <td>Hornby</td>\n",
       "      <td>£39.99</td>\n",
       "      <td>NaN</td>\n",
       "      <td>1</td>\n",
       "      <td>2</td>\n",
       "      <td>5.0 out of 5 stars</td>\n",
       "      <td>Hobbies &gt; Model Trains &amp; Railway Sets &gt; Rail V...</td>\n",
       "      <td>Hornby 00 Gauge BR Hawksworth 3rd Class W 2107...</td>\n",
       "      <td>...</td>\n",
       "      <td>NaN</td>\n",
       "      <td>NaN</td>\n",
       "      <td>NaN</td>\n",
       "      <td>NaN</td>\n",
       "      <td>NaN</td>\n",
       "      <td>NaN</td>\n",
       "      <td>NaN</td>\n",
       "      <td>NaN</td>\n",
       "      <td>NaN</td>\n",
       "      <td>NaN</td>\n",
       "    </tr>\n",
       "    <tr>\n",
       "      <th>4</th>\n",
       "      <td>e33a9adeed5f36840ccc227db4682a36</td>\n",
       "      <td>Hornby 00 Gauge 0-4-0 Gildenlow Salt Co. Steam...</td>\n",
       "      <td>Hornby</td>\n",
       "      <td>£32.19</td>\n",
       "      <td>NaN</td>\n",
       "      <td>3</td>\n",
       "      <td>2</td>\n",
       "      <td>4.7 out of 5 stars</td>\n",
       "      <td>Hobbies &gt; Model Trains &amp; Railway Sets &gt; Rail V...</td>\n",
       "      <td>Product Description Hornby RailRoad 0-4-0 Gild...</td>\n",
       "      <td>...</td>\n",
       "      <td>NaN</td>\n",
       "      <td>NaN</td>\n",
       "      <td>NaN</td>\n",
       "      <td>NaN</td>\n",
       "      <td>NaN</td>\n",
       "      <td>NaN</td>\n",
       "      <td>NaN</td>\n",
       "      <td>NaN</td>\n",
       "      <td>NaN</td>\n",
       "      <td>NaN</td>\n",
       "    </tr>\n",
       "  </tbody>\n",
       "</table>\n",
       "<p>5 rows × 895 columns</p>\n",
       "</div>"
      ],
      "text/plain": [
       "                            uniq_id  \\\n",
       "0  eac7efa5dbd3d667f26eb3d3ab504464   \n",
       "1  b17540ef7e86e461d37f3ae58b7b72ac   \n",
       "2  348f344247b0c1a935b1223072ef9d8a   \n",
       "3  e12b92dbb8eaee78b22965d2a9bbbd9f   \n",
       "4  e33a9adeed5f36840ccc227db4682a36   \n",
       "\n",
       "                                        product_name manufacturer   price  \\\n",
       "0                              Hornby 2014 Catalogue       Hornby   £3.42   \n",
       "1  FunkyBuys® Large Christmas Holiday Express Fes...    FunkyBuys  £16.99   \n",
       "2  CLASSIC TOY TRAIN SET TRACK CARRIAGES LIGHT EN...          ccf   £9.99   \n",
       "3     HORNBY Coach R4410A BR Hawksworth Corridor 3rd       Hornby  £39.99   \n",
       "4  Hornby 00 Gauge 0-4-0 Gildenlow Salt Co. Steam...       Hornby  £32.19   \n",
       "\n",
       "  number_available_in_stock number_of_reviews number_of_answered_questions  \\\n",
       "0                     5 new                15                            1   \n",
       "1                       NaN                 2                            1   \n",
       "2                     2 new                17                            2   \n",
       "3                       NaN                 1                            2   \n",
       "4                       NaN                 3                            2   \n",
       "\n",
       "  average_review_rating                   amazon_category_and_sub_category  \\\n",
       "0    4.9 out of 5 stars  Hobbies > Model Trains & Railway Sets > Rail V...   \n",
       "1    4.5 out of 5 stars  Hobbies > Model Trains & Railway Sets > Rail V...   \n",
       "2    3.9 out of 5 stars  Hobbies > Model Trains & Railway Sets > Rail V...   \n",
       "3    5.0 out of 5 stars  Hobbies > Model Trains & Railway Sets > Rail V...   \n",
       "4    4.7 out of 5 stars  Hobbies > Model Trains & Railway Sets > Rail V...   \n",
       "\n",
       "                                         description  ... Unnamed: 885  \\\n",
       "0  Product Description Hornby 2014 Catalogue Box ...  ...          NaN   \n",
       "1  Size Name:Large FunkyBuys® Large Christmas Hol...  ...          NaN   \n",
       "2  BIG CLASSIC TOY TRAIN SET TRACK CARRIAGE LIGHT...  ...          NaN   \n",
       "3  Hornby 00 Gauge BR Hawksworth 3rd Class W 2107...  ...          NaN   \n",
       "4  Product Description Hornby RailRoad 0-4-0 Gild...  ...          NaN   \n",
       "\n",
       "  Unnamed: 886 Unnamed: 887 Unnamed: 888 Unnamed: 889 Unnamed: 890  \\\n",
       "0          NaN          NaN          NaN          NaN          NaN   \n",
       "1          NaN          NaN          NaN          NaN          NaN   \n",
       "2          NaN          NaN          NaN          NaN          NaN   \n",
       "3          NaN          NaN          NaN          NaN          NaN   \n",
       "4          NaN          NaN          NaN          NaN          NaN   \n",
       "\n",
       "  Unnamed: 891 Unnamed: 892 Unnamed: 893 Unnamed: 894  \n",
       "0          NaN          NaN          NaN          NaN  \n",
       "1          NaN          NaN          NaN          NaN  \n",
       "2          NaN          NaN          NaN          NaN  \n",
       "3          NaN          NaN          NaN          NaN  \n",
       "4          NaN          NaN          NaN          NaN  \n",
       "\n",
       "[5 rows x 895 columns]"
      ]
     },
     "execution_count": 2,
     "metadata": {},
     "output_type": "execute_result"
    }
   ],
   "source": [
    "df = pd.read_csv(\"/kaggle/input/10000-amazon-products-dataset/Amazon_Products.csv\", dtype = str)\n",
    "df.head()"
   ]
  },
  {
   "cell_type": "code",
   "execution_count": 3,
   "id": "aa645a37",
   "metadata": {
    "execution": {
     "iopub.execute_input": "2022-02-18T15:40:22.778544Z",
     "iopub.status.busy": "2022-02-18T15:40:22.777731Z",
     "iopub.status.idle": "2022-02-18T15:40:22.780773Z",
     "shell.execute_reply": "2022-02-18T15:40:22.780118Z",
     "shell.execute_reply.started": "2022-02-18T15:36:48.392648Z"
    },
    "papermill": {
     "duration": 0.025227,
     "end_time": "2022-02-18T15:40:22.780949",
     "exception": false,
     "start_time": "2022-02-18T15:40:22.755722",
     "status": "completed"
    },
    "tags": []
   },
   "outputs": [],
   "source": [
    "# import sqlite3\n",
    "# connection = sqlite3.connect(\"/kaggle/input/10000-amazon-products-dataset/Amazon_Products.csv\")\n",
    "# connection"
   ]
  },
  {
   "cell_type": "markdown",
   "id": "155f61a7",
   "metadata": {
    "papermill": {
     "duration": 0.017346,
     "end_time": "2022-02-18T15:40:22.816198",
     "exception": false,
     "start_time": "2022-02-18T15:40:22.798852",
     "status": "completed"
    },
    "tags": []
   },
   "source": [
    "## 1. Evaluate each column and covert it into a usable format"
   ]
  },
  {
   "cell_type": "code",
   "execution_count": 4,
   "id": "9d9736ef",
   "metadata": {
    "execution": {
     "iopub.execute_input": "2022-02-18T15:40:22.862042Z",
     "iopub.status.busy": "2022-02-18T15:40:22.861318Z",
     "iopub.status.idle": "2022-02-18T15:40:22.872714Z",
     "shell.execute_reply": "2022-02-18T15:40:22.871810Z",
     "shell.execute_reply.started": "2022-02-18T15:36:50.105374Z"
    },
    "papermill": {
     "duration": 0.038772,
     "end_time": "2022-02-18T15:40:22.872961",
     "exception": false,
     "start_time": "2022-02-18T15:40:22.834189",
     "status": "completed"
    },
    "tags": []
   },
   "outputs": [
    {
     "name": "stdout",
     "output_type": "stream",
     "text": [
      "Leftover columns:  Index(['uniq_id', 'product_name', 'manufacturer', 'price',\n",
      "       'number_available_in_stock', 'number_of_reviews',\n",
      "       'number_of_answered_questions', 'average_review_rating',\n",
      "       'amazon_category_and_sub_category', 'description',\n",
      "       'product_information', 'product_description',\n",
      "       'items_customers_buy_after_viewing_this_item',\n",
      "       'customer_questions_and_answers'],\n",
      "      dtype='object')\n"
     ]
    },
    {
     "data": {
      "text/plain": [
       "(10004, 14)"
      ]
     },
     "execution_count": 4,
     "metadata": {},
     "output_type": "execute_result"
    }
   ],
   "source": [
    "# delete columns which are unnamed\n",
    "unnamed_cols = [col for col in df.columns if 'Unnamed' in col]\n",
    "# print(\"Need to delete these cols: \", unnamed_cols)\n",
    "df = df.drop(unnamed_cols, axis = 1)\n",
    "print(\"Leftover columns: \", df.columns)\n",
    "df.shape"
   ]
  },
  {
   "cell_type": "code",
   "execution_count": 5,
   "id": "676a2a8a",
   "metadata": {
    "execution": {
     "iopub.execute_input": "2022-02-18T15:40:22.914328Z",
     "iopub.status.busy": "2022-02-18T15:40:22.913583Z",
     "iopub.status.idle": "2022-02-18T15:40:22.922651Z",
     "shell.execute_reply": "2022-02-18T15:40:22.923164Z",
     "shell.execute_reply.started": "2022-02-18T15:36:52.210827Z"
    },
    "papermill": {
     "duration": 0.031117,
     "end_time": "2022-02-18T15:40:22.923351",
     "exception": false,
     "start_time": "2022-02-18T15:40:22.892234",
     "status": "completed"
    },
    "tags": []
   },
   "outputs": [],
   "source": [
    "def ColSummary (col, dtype=None, new_col=None):\n",
    "    try:\n",
    "        print(\"\\n\"+str(col).upper()+\" ANALYSIS\")\n",
    "        if new_col:\n",
    "            df.rename(columns={col:new_col})\n",
    "            print(\"\\t\"+col+\" name updated to \"+new_col)\n",
    "            col = new_col\n",
    "        if dtype:\n",
    "            df[col] = df[col].astype(dtype)\n",
    "            print(\"\\tType changed to \"+dtype)\n",
    "        print('\\tTotal number of values : ', len(df[col]))\n",
    "        print('\\tTotal number of unique values : ', df[col].nunique())\n",
    "        print('\\tUnique values : ',df[col].unique()[:5])\n",
    "        print('\\tRange of length : ', min(df[col].apply(lambda x: len(str(x)))),\" to \",max(df[col].apply(lambda x: len(str(x)))))\n",
    "        print('\\tMissing Values : ', df[col].isna().sum())\n",
    "    except:\n",
    "        print(\"\\n*** Cannot work with this datatype.. Try Again.... ***\")"
   ]
  },
  {
   "cell_type": "code",
   "execution_count": 6,
   "id": "366be366",
   "metadata": {
    "execution": {
     "iopub.execute_input": "2022-02-18T15:40:22.971167Z",
     "iopub.status.busy": "2022-02-18T15:40:22.964673Z",
     "iopub.status.idle": "2022-02-18T15:40:23.055918Z",
     "shell.execute_reply": "2022-02-18T15:40:23.056756Z",
     "shell.execute_reply.started": "2022-02-18T15:36:55.131578Z"
    },
    "papermill": {
     "duration": 0.113984,
     "end_time": "2022-02-18T15:40:23.057027",
     "exception": false,
     "start_time": "2022-02-18T15:40:22.943043",
     "status": "completed"
    },
    "tags": []
   },
   "outputs": [
    {
     "name": "stdout",
     "output_type": "stream",
     "text": [
      "\n",
      "UNIQ_ID ANALYSIS\n",
      "\tType changed to str\n",
      "\tTotal number of values :  10004\n",
      "\tTotal number of unique values :  10002\n",
      "\tUnique values :  ['eac7efa5dbd3d667f26eb3d3ab504464' 'b17540ef7e86e461d37f3ae58b7b72ac'\n",
      " '348f344247b0c1a935b1223072ef9d8a' 'e12b92dbb8eaee78b22965d2a9bbbd9f'\n",
      " 'e33a9adeed5f36840ccc227db4682a36']\n",
      "\tRange of length :  1  to  32\n",
      "\tMissing Values :  0\n",
      "\n",
      "\tInspecting IDs with unusual length :  ['nan', '}', 'nan', '}']\n",
      "\tDeleting IDs with unusual length ..... \n",
      "\n",
      "Unique IDs updated .....\n",
      "\n",
      "UNIQ_ID ANALYSIS\n",
      "\tTotal number of values :  10000\n",
      "\tTotal number of unique values :  10000\n",
      "\tUnique values :  ['eac7efa5dbd3d667f26eb3d3ab504464' 'b17540ef7e86e461d37f3ae58b7b72ac'\n",
      " '348f344247b0c1a935b1223072ef9d8a' 'e12b92dbb8eaee78b22965d2a9bbbd9f'\n",
      " 'e33a9adeed5f36840ccc227db4682a36']\n",
      "\tRange of length :  32  to  32\n",
      "\tMissing Values :  0\n"
     ]
    }
   ],
   "source": [
    "# remove rows which have non-sensical ids\n",
    "ColSummary('uniq_id', 'str')\n",
    "print('\\n\\tInspecting IDs with unusual length : ', list(df['uniq_id'][df['uniq_id'].apply(lambda x: len(str(x)))<=3]))\n",
    "print('\\tDeleting IDs with unusual length ..... ')\n",
    "df = df.drop(index = list(df['uniq_id'][df['uniq_id'].apply(lambda x: len(str(x))<=3)].index))\n",
    "print('\\nUnique IDs updated .....')\n",
    "ColSummary('uniq_id')"
   ]
  },
  {
   "cell_type": "code",
   "execution_count": 7,
   "id": "23d92c9e",
   "metadata": {
    "execution": {
     "iopub.execute_input": "2022-02-18T15:40:23.103069Z",
     "iopub.status.busy": "2022-02-18T15:40:23.102358Z",
     "iopub.status.idle": "2022-02-18T15:40:23.170520Z",
     "shell.execute_reply": "2022-02-18T15:40:23.171009Z",
     "shell.execute_reply.started": "2022-02-18T15:37:11.497784Z"
    },
    "papermill": {
     "duration": 0.094641,
     "end_time": "2022-02-18T15:40:23.171192",
     "exception": false,
     "start_time": "2022-02-18T15:40:23.076551",
     "status": "completed"
    },
    "tags": []
   },
   "outputs": [
    {
     "name": "stdout",
     "output_type": "stream",
     "text": [
      "\n",
      "PRODUCT_NAME ANALYSIS\n",
      "\tType changed to string\n",
      "\tTotal number of values :  10000\n",
      "\tTotal number of unique values :  9964\n",
      "\tUnique values :  <StringArray>\n",
      "[                                                                                                 'Hornby 2014 Catalogue',\n",
      " 'FunkyBuys® Large Christmas Holiday Express Festive Train Set (SI-TY1017) Toy Light / Sounds / Battery Operated & Smoke',\n",
      "                                             'CLASSIC TOY TRAIN SET TRACK CARRIAGES LIGHT ENGINE BOXED BOYS KIDS BATTERY',\n",
      "                                                                         'HORNBY Coach R4410A BR Hawksworth Corridor 3rd',\n",
      "                                                        'Hornby 00 Gauge 0-4-0 Gildenlow Salt Co. Steam Locomotive Model']\n",
      "Length: 5, dtype: string\n",
      "\tRange of length :  3  to  536\n",
      "\tMissing Values :  0\n",
      "\n",
      "MANUFACTURER ANALYSIS\n",
      "\tType changed to string\n",
      "\tTotal number of values :  10000\n",
      "\tTotal number of unique values :  2651\n",
      "\tUnique values :  <StringArray>\n",
      "['Hornby', 'FunkyBuys', 'ccf', 'Generic', 'Chuggington']\n",
      "Length: 5, dtype: string\n",
      "\tRange of length :  1  to  48\n",
      "\tMissing Values :  7\n"
     ]
    }
   ],
   "source": [
    "ColSummary('product_name', 'string')\n",
    "ColSummary('manufacturer', 'string')"
   ]
  },
  {
   "cell_type": "code",
   "execution_count": 8,
   "id": "ffcdaf52",
   "metadata": {
    "execution": {
     "iopub.execute_input": "2022-02-18T15:40:23.250384Z",
     "iopub.status.busy": "2022-02-18T15:40:23.248541Z",
     "iopub.status.idle": "2022-02-18T15:40:23.289028Z",
     "shell.execute_reply": "2022-02-18T15:40:23.288301Z",
     "shell.execute_reply.started": "2022-02-18T15:37:57.415237Z"
    },
    "papermill": {
     "duration": 0.09868,
     "end_time": "2022-02-18T15:40:23.289246",
     "exception": false,
     "start_time": "2022-02-18T15:40:23.190566",
     "status": "completed"
    },
    "tags": []
   },
   "outputs": [
    {
     "name": "stdout",
     "output_type": "stream",
     "text": [
      "\n",
      "PRICE ANALYSIS\n",
      "\tTotal number of values :  10000\n",
      "\tTotal number of unique values :  2625\n",
      "\tUnique values :  ['£3.42' '£16.99' '£9.99' '£39.99' '£32.19']\n",
      "\tRange of length :  3  to  19\n",
      "\tMissing Values :  1435\n",
      "\n",
      " Deleting rows which have price with greater than 5 length i.e. have ranges instead of values .....\n",
      "\n",
      "PRICE ANALYSIS\n",
      "\tType changed to float64\n",
      "\tTotal number of values :  5603\n",
      "\tTotal number of unique values :  754\n",
      "\tUnique values :  [3.42 9.99 6.99  nan 9.6 ]\n",
      "\tRange of length :  3  to  4\n",
      "\tMissing Values :  1435\n"
     ]
    }
   ],
   "source": [
    "# convert currency into float\n",
    "ColSummary('price')\n",
    "print(\"\\n Deleting rows which have price with greater than 5 length i.e. have ranges instead of values .....\")\n",
    "df = df.drop(index = list(df['price'][df['price'].apply(lambda x: len(str(x))>5)].index))\n",
    "df['price'] = df['price'][df['price'].isna()==False].str[1:]\n",
    "ColSummary('price', 'float64')"
   ]
  },
  {
   "cell_type": "code",
   "execution_count": 9,
   "id": "ed3f8454",
   "metadata": {
    "execution": {
     "iopub.execute_input": "2022-02-18T15:40:23.356674Z",
     "iopub.status.busy": "2022-02-18T15:40:23.336259Z",
     "iopub.status.idle": "2022-02-18T15:40:23.382971Z",
     "shell.execute_reply": "2022-02-18T15:40:23.383629Z",
     "shell.execute_reply.started": "2022-02-18T15:38:11.843893Z"
    },
    "papermill": {
     "duration": 0.074589,
     "end_time": "2022-02-18T15:40:23.383840",
     "exception": false,
     "start_time": "2022-02-18T15:40:23.309251",
     "status": "completed"
    },
    "tags": []
   },
   "outputs": [
    {
     "name": "stdout",
     "output_type": "stream",
     "text": [
      "\n",
      "NUMBER_AVAILABLE_IN_STOCK ANALYSIS\n",
      "\tTotal number of values :  5603\n",
      "\tTotal number of unique values :  70\n",
      "\tUnique values :  ['5\\xa0new' '2\\xa0new' nan '1\\xa0new' '18\\xa0new']\n",
      "\tRange of length :  3  to  13\n",
      "\tMissing Values :  1532\n",
      "\n",
      "NUMBER_AVAILABLE_IN_STOCK ANALYSIS\n",
      "\tType changed to float64\n",
      "\tTotal number of values :  5603\n",
      "\tTotal number of unique values :  55\n",
      "\tUnique values :  [ 5.  2. nan  1. 18.]\n",
      "\tRange of length :  3  to  4\n",
      "\tMissing Values :  1532\n"
     ]
    }
   ],
   "source": [
    "# change to string by removing extra text\n",
    "ColSummary('number_available_in_stock')\n",
    "df['number_available_in_stock'] = df['number_available_in_stock'].apply(lambda x: str(x).split()[0])\n",
    "ColSummary('number_available_in_stock','float64')"
   ]
  },
  {
   "cell_type": "code",
   "execution_count": 10,
   "id": "da6d97cd",
   "metadata": {
    "execution": {
     "iopub.execute_input": "2022-02-18T15:40:23.429799Z",
     "iopub.status.busy": "2022-02-18T15:40:23.428813Z",
     "iopub.status.idle": "2022-02-18T15:40:23.494332Z",
     "shell.execute_reply": "2022-02-18T15:40:23.495088Z",
     "shell.execute_reply.started": "2022-02-18T15:38:17.180571Z"
    },
    "papermill": {
     "duration": 0.090214,
     "end_time": "2022-02-18T15:40:23.495353",
     "exception": false,
     "start_time": "2022-02-18T15:40:23.405139",
     "status": "completed"
    },
    "tags": []
   },
   "outputs": [
    {
     "name": "stdout",
     "output_type": "stream",
     "text": [
      "\n",
      "NUMBER_OF_REVIEWS ANALYSIS\n",
      "\tTotal number of values :  5603\n",
      "\tTotal number of unique values :  157\n",
      "\tUnique values :  ['15' '17' '2' '8' '1']\n",
      "\tRange of length :  1  to  5\n",
      "\tMissing Values :  7\n",
      "\n",
      " Removing commas from strings for float conversion .....\n",
      "\n",
      "NUMBER_OF_REVIEWS ANALYSIS\n",
      "\tType changed to float64\n",
      "\tTotal number of values :  5603\n",
      "\tTotal number of unique values :  157\n",
      "\tUnique values :  [15. 17.  2.  8.  1.]\n",
      "\tRange of length :  3  to  6\n",
      "\tMissing Values :  7\n",
      "\n",
      "NUMBER_OF_ANSWERED_QUESTIONS ANALYSIS\n",
      "\tType changed to float64\n",
      "\tTotal number of values :  5603\n",
      "\tTotal number of unique values :  17\n",
      "\tUnique values :  [ 1.  2.  6. nan  5.]\n",
      "\tRange of length :  3  to  4\n",
      "\tMissing Values :  528\n"
     ]
    }
   ],
   "source": [
    "ColSummary('number_of_reviews')\n",
    "print(\"\\n Removing commas from strings for float conversion .....\")\n",
    "df['number_of_reviews'] = df['number_of_reviews'].apply(lambda x: str(x).replace(',',''))\n",
    "ColSummary('number_of_reviews', 'float64')\n",
    "ColSummary('number_of_answered_questions','float64')"
   ]
  },
  {
   "cell_type": "code",
   "execution_count": 11,
   "id": "608c77b1",
   "metadata": {
    "execution": {
     "iopub.execute_input": "2022-02-18T15:40:23.544228Z",
     "iopub.status.busy": "2022-02-18T15:40:23.543548Z",
     "iopub.status.idle": "2022-02-18T15:40:23.584618Z",
     "shell.execute_reply": "2022-02-18T15:40:23.585207Z",
     "shell.execute_reply.started": "2022-02-18T15:38:42.795368Z"
    },
    "papermill": {
     "duration": 0.067797,
     "end_time": "2022-02-18T15:40:23.585392",
     "exception": false,
     "start_time": "2022-02-18T15:40:23.517595",
     "status": "completed"
    },
    "tags": []
   },
   "outputs": [
    {
     "name": "stdout",
     "output_type": "stream",
     "text": [
      "\n",
      "AVERAGE_REVIEW_RATING ANALYSIS\n",
      "\tTotal number of values :  5603\n",
      "\tTotal number of unique values :  17\n",
      "\tUnique values :  ['4.9 out of 5 stars' '3.9 out of 5 stars' '5.0 out of 5 stars'\n",
      " '4.8 out of 5 stars' '4.5 out of 5 stars']\n",
      "\tRange of length :  3  to  18\n",
      "\tMissing Values :  7\n",
      "\n",
      "AVERAGE_REVIEW_RATING ANALYSIS\n",
      "\tTotal number of values :  5603\n",
      "\tTotal number of unique values :  18\n",
      "\tUnique values :  ['4.9' '3.9' '5.0' '4.8' '4.5']\n",
      "\tRange of length :  3  to  3\n",
      "\tMissing Values :  0\n"
     ]
    }
   ],
   "source": [
    "ColSummary('average_review_rating')\n",
    "df['average_review_rating'] = df['average_review_rating'].apply(lambda x: str(x).split()[0])\n",
    "ColSummary('average_review_rating')"
   ]
  },
  {
   "cell_type": "code",
   "execution_count": 12,
   "id": "5af60544",
   "metadata": {
    "execution": {
     "iopub.execute_input": "2022-02-18T15:40:23.634573Z",
     "iopub.status.busy": "2022-02-18T15:40:23.633837Z",
     "iopub.status.idle": "2022-02-18T15:40:23.663617Z",
     "shell.execute_reply": "2022-02-18T15:40:23.664380Z",
     "shell.execute_reply.started": "2022-02-18T15:38:45.447898Z"
    },
    "papermill": {
     "duration": 0.057157,
     "end_time": "2022-02-18T15:40:23.664610",
     "exception": false,
     "start_time": "2022-02-18T15:40:23.607453",
     "status": "completed"
    },
    "tags": []
   },
   "outputs": [
    {
     "name": "stdout",
     "output_type": "stream",
     "text": [
      "\n",
      "AMAZON_CATEGORY_AND_SUB_CATEGORY ANALYSIS\n",
      "\tTotal number of values :  5603\n",
      "\tTotal number of unique values :  220\n",
      "\tUnique values :  ['Hobbies > Model Trains & Railway Sets > Rail Vehicles > Trains'\n",
      " 'Hobbies > Model Trains & Railway Sets > Lighting & Signal Engineering > Lamps & Lighting'\n",
      " 'Hobbies > Model Trains & Railway Sets > Rail Vehicles > Locomotives'\n",
      " 'Hobbies > Model Trains & Railway Sets > Lighting & Signal Engineering > Signal & Sound'\n",
      " 'Hobbies > Model Trains & Railway Sets > Accessories > Recreational Activities']\n",
      "\tRange of length :  3  to  120\n",
      "\tMissing Values :  330\n",
      "\n",
      "AMAZON_CATEGORY_AND_SUB_CATEGORY ANALYSIS\n",
      "\tTotal number of values :  5603\n",
      "\n",
      "*** Cannot work with this datatype.. Try Again.... ***\n"
     ]
    }
   ],
   "source": [
    "ColSummary('amazon_category_and_sub_category')\n",
    "df['amazon_category_and_sub_category'] = df['amazon_category_and_sub_category'].apply(lambda x: str(x).split(\" > \"))\n",
    "ColSummary('amazon_category_and_sub_category')"
   ]
  },
  {
   "cell_type": "code",
   "execution_count": 13,
   "id": "d3914045",
   "metadata": {
    "execution": {
     "iopub.execute_input": "2022-02-18T15:40:23.723710Z",
     "iopub.status.busy": "2022-02-18T15:40:23.722753Z",
     "iopub.status.idle": "2022-02-18T15:40:23.820294Z",
     "shell.execute_reply": "2022-02-18T15:40:23.819256Z",
     "shell.execute_reply.started": "2022-02-18T15:38:49.195680Z"
    },
    "papermill": {
     "duration": 0.133078,
     "end_time": "2022-02-18T15:40:23.820486",
     "exception": false,
     "start_time": "2022-02-18T15:40:23.687408",
     "status": "completed"
    },
    "tags": []
   },
   "outputs": [
    {
     "name": "stdout",
     "output_type": "stream",
     "text": [
      "\n",
      "DESCRIPTION ANALYSIS\n",
      "\tTotal number of values :  5603\n",
      "\tTotal number of unique values :  4646\n",
      "\tUnique values :  ['Product Description Hornby 2014 Catalogue Box Contains 1 x one catalogue'\n",
      " 'BIG CLASSIC TOY TRAIN SET TRACK CARRIAGE LIGHT ENGINE SOUND BOXED KIDS BATTERY Railway Train Set with Light Sound, Big Size Curved Track Free Wheeling Action Working Headlight Sound Horn The Track Can Also Be Assembled In More Layouts Length Of Track 104 cm WIDTH OF THE TRACK 68 CM Finely Detailed Realistic Toy Train REQUIRES 2 AA BATTERIES (NOT INCLUDED)'\n",
      " 'These delicate model garden lights are mainly used in teaching, photography, and various kinds of scene model. Each of them is completed with wires and has double heads, which can be lighten with 6V power. These model lights measure about 7cm high. Light up your model layout with this great model lamppost! Description: A pack of 20pcs model garden lamps Each has double head, completed with wires and bulbs Mainly used to decorate your model layout Voltage: 6V Power: 1 W Height: Approx. 2.76 inch / 7cm Scale: 1:100 Material: Plastic Main Color: Black Note: Each lamp has 4 wires altogether. When you connect these wires with the power, please connect two long wires with one end and connect the rest two short wires with another end. Package Include: 20pcs model garden lights'\n",
      " 'Product Description An amazingly Interactive Chuggington World! Chuggington Interactive Chatsworth instantly recognises and \"magically\" talks to any other engine, training stop and set accessories. This engine has over 60 sounds and phrases (when used with other Chuggington interactive products). Featuring the actual voice from the Chuggington show. Each Interactive talking engine features Smart Talk technology which enables them to instantly recognise any other engine, react to any train stop and respond to your play! Chuggington Interactive is a magical open ended play system featuring iconic destinations and characters from the BBC\\'s CBeebies top rated preschool show Chuggington. Chatsworth is a very proper engine who lives next door to Harrison in the upper level of the roundhouse. Chatsworth is honest, good mannered, polite and considerate of others, however he considers himself as the upper crust of Chuggington. On time, clean and in fine repair, Chatsworth always presents his best wheel forward, as first impressions are very important to him. Engines recognise and \"magically\" talk to each other, training stops and set accessories. Requires 2 x AA batteries (included). Box Contains 1 x Interactive Chatsworth engine'\n",
      " 'Suitable for the following scale(s): OO Scale']\n",
      "\tRange of length :  1  to  32751\n",
      "\tMissing Values :  469\n",
      "\n",
      "PRODUCT_INFORMATION ANALYSIS\n",
      "\tTotal number of values :  5603\n",
      "\tTotal number of unique values :  5575\n",
      "\tUnique values :  ['Technical Details Item Weight640 g Product Dimensions29.6 x 20.8 x 1 cm Manufacturer recommended age:6 years and up Item model numberR8148 Main Language(s)English manual, English Number of Game Players1 Number of Puzzle Pieces1 Assembly RequiredNo Scale1:72 Engine Typeelectric Track Width/GaugeHO Batteries Required?No Batteries Included?No Material Type(s)Paper Material Care InstructionsNo Remote Control Included?No Radio Control Suitabilityindoor Colorwhite \\xa0\\xa0 Additional Information ASINB00HJ208KO Best Sellers Rank 52,854 in Toys & Games (See top 100) #69 in\\xa0Toys & Games > Model Trains & Railway Sets > Rail Vehicles > Trains Shipping Weight640 g Delivery Destinations:Visit the Delivery Destinations Help page to see where this item can be delivered. Date First Available24 Dec. 2013 \\xa0\\xa0 Feedback \\xa0Would you like to update product info or give feedback on images?'\n",
      " 'Technical Details Manufacturer recommended age:3 years and up \\xa0\\xa0 Additional Information ASINB00E5MNXJ4 Best Sellers Rank 54,147 in Toys & Games (See top 100) #72 in\\xa0Toys & Games > Model Trains & Railway Sets > Rail Vehicles > Trains Delivery Destinations:Visit the Delivery Destinations Help page to see where this item can be delivered. Date First Available25 July 2013 \\xa0\\xa0 Feedback \\xa0Would you like to update product info or give feedback on images?'\n",
      " 'Technical Details Manufacturer recommended age:3 years and up \\xa0\\xa0 Additional Information ASINB008MRH3Y4 Best Sellers Rank 60,815 in Toys & Games (See top 100) #9 in\\xa0Toys & Games > Model Trains & Railway Sets > Lighting & Signal Engineering > Lamps & Lighting Delivery Destinations:Visit the Delivery Destinations Help page to see where this item can be delivered. Date First Available19 July 2012 \\xa0\\xa0 Feedback \\xa0Would you like to update product info or give feedback on images?'\n",
      " \"Technical Details Item Weight150 g Product Dimensions12.7 x 4.4 x 6.7 cm Batteries:2 AA batteries required. (included) Manufacturer recommended age:36 months - 10 years Item model numberLC55012 Manufacturer's Suggested Maximum Weight43.5 Kilograms Number of Puzzle Pieces1 Assembly RequiredNo Batteries Required?Yes Batteries Included?Yes Material Type(s)Plastic Material Composition100% plastic Material Care InstructionsInteraction performance may be reduced with use in an outdoor environment or in direct sunlight Remote Control Included?No Radio Control SuitabilityIndoor Colormulticoloured \\xa0\\xa0 Additional Information ASINB003M2XTK6 Best Sellers Rank 195,658 in Toys & Games (See top 100) #307 in\\xa0Toys & Games > Model Trains & Railway Sets > Rail Vehicles > Trains Shipping Weight227 g Delivery Destinations:Visit the Delivery Destinations Help page to see where this item can be delivered. Date First Available3 Aug. 2010 \\xa0\\xa0 Feedback \\xa0Would you like to update product info or give feedback on images?\"\n",
      " 'Technical Details Manufacturer recommended age:14 years and up Manufacturer reference37-662 Scale1:76 Track Width/GaugeOO \\xa0\\xa0 Additional Information ASINB00H2HH7OG Best Sellers Rank 522,353 in Toys & Games (See top 100) #473 in\\xa0Toys & Games > Model Trains & Railway Sets > Rail Vehicles > Wagons #859 in\\xa0Toys & Games > Model Trains & Railway Sets > Rail Vehicles > Trains Delivery Destinations:Visit the Delivery Destinations Help page to see where this item can be delivered. Date First Available3 Dec. 2013 \\xa0\\xa0 Feedback \\xa0Would you like to update product info or give feedback on images?']\n",
      "\tRange of length :  3  to  2525\n",
      "\tMissing Values :  27\n",
      "\n",
      "PRODUCT_DESCRIPTION ANALYSIS\n",
      "\tTotal number of values :  5603\n",
      "\tTotal number of unique values :  4645\n",
      "\tUnique values :  ['Product Description Hornby 2014 Catalogue Box Contains 1 x one catalogue'\n",
      " 'BIG CLASSIC TOY TRAIN SET TRACK CARRIAGE LIGHT ENGINE SOUND BOXED KIDS BATTERY Railway Train Set with Light Sound, Big Size Curved Track Free Wheeling Action Working Headlight Sound Horn The Track Can Also Be Assembled In More Layouts Length Of Track 104 cm WIDTH OF THE TRACK 68 CM Finely Detailed Realistic Toy Train REQUIRES 2 AA BATTERIES (NOT INCLUDED)'\n",
      " 'These delicate model garden lights are mainly used in teaching, photography, and various kinds of scene model. Each of them is completed with wires and has double heads, which can be lighten with 6V power. These model lights measure about 7cm high. Light up your model layout with this great model lamppost! Description: A pack of 20pcs model garden lamps Each has double head, completed with wires and bulbs Mainly used to decorate your model layout Voltage: 6V Power: 1 W Height: Approx. 2.76 inch / 7cm Scale: 1:100 Material: Plastic Main Color: Black Note: Each lamp has 4 wires altogether. When you connect these wires with the power, please connect two long wires with one end and connect the rest two short wires with another end. Package Include: 20pcs model garden lights'\n",
      " 'Product Description An amazingly Interactive Chuggington World! Chuggington Interactive Chatsworth instantly recognises and \"magically\" talks to any other engine, training stop and set accessories. This engine has over 60 sounds and phrases (when used with other Chuggington interactive products). Featuring the actual voice from the Chuggington show. Each Interactive talking engine features Smart Talk technology which enables them to instantly recognise any other engine, react to any train stop and respond to your play! Chuggington Interactive is a magical open ended play system featuring iconic destinations and characters from the BBC\\'s CBeebies top rated preschool show Chuggington. Chatsworth is a very proper engine who lives next door to Harrison in the upper level of the roundhouse. Chatsworth is honest, good mannered, polite and considerate of others, however he considers himself as the upper crust of Chuggington. On time, clean and in fine repair, Chatsworth always presents his best wheel forward, as first impressions are very important to him. Engines recognise and \"magically\" talk to each other, training stops and set accessories. Requires 2 x AA batteries (included). Box Contains 1 x Interactive Chatsworth engine'\n",
      " 'Suitable for the following scale(s): OO Scale']\n",
      "\tRange of length :  1  to  4264\n",
      "\tMissing Values :  470\n",
      "\n",
      "ITEMS_CUSTOMERS_BUY_AFTER_VIEWING_THIS_ITEM ANALYSIS\n",
      "\tTotal number of values :  5603\n",
      "\tTotal number of unique values :  3768\n",
      "\tUnique values :  ['http://www.amazon.co.uk/Hornby-R8150-Catalogue-2015/dp/B00S9SUUBE | http://www.amazon.co.uk/Hornby-Book-Model-Railways-Edition/dp/1844860957 | http://www.amazon.co.uk/Peco-60-Plans-Book/dp/B002QVL16I | http://www.amazon.co.uk/Newcomers-Guide-Model-Railways-Step/dp/1857943295'\n",
      " 'http://www.amazon.co.uk/Train-With-Tracks-Battery-Operated-x/dp/B009P540O8 | http://www.amazon.co.uk/Classic-Train-Lights-Battery-Operated/dp/B0041L9OHE | http://www.amazon.co.uk/Train-Flash-Electric-Sound-Europe/dp/B008D7CEH4 | http://www.amazon.co.uk/13-Piece-Train-Set-Ideal/dp/B0173N6E4W'\n",
      " 'http://www.amazon.co.uk/Single-Head-Garden-Lights-Lamppost-Layout/dp/B008XCSHCA | http://www.amazon.co.uk/Model-Scene-Gas-Lamp-Posts/dp/B006MGB90G | http://www.amazon.co.uk/12pcs-1-2-inch-Scenery-Landscape/dp/B008S8NHYM | http://www.amazon.co.uk/douself-100Pcs-OO-Scale-Passenger/dp/B00GRUD8W4'\n",
      " 'http://www.amazon.co.uk/Chuggington | http://www.amazon.co.uk/Learning-Chuggington | http://www.amazon.co.uk/Chuggington | http://www.amazon.co.uk/Learning-Curve-Chuggington'\n",
      " nan]\n",
      "\tRange of length :  3  to  345\n",
      "\tMissing Values :  1744\n",
      "\n",
      "CUSTOMER_QUESTIONS_AND_ANSWERS ANALYSIS\n",
      "\tTotal number of values :  5603\n",
      "\tTotal number of unique values :  374\n",
      "\tUnique values :  ['Does this catalogue detail all the previous Hornby products please? // HiThe 2014 catalogue does indeed detail previous models but also includes new releases for 2014.You would be advised to purchase models as you need them to avoid them being discontinued in subsequent years…\\n    \\n      see more\\n    \\n  \\n  \\n    HiThe 2014 catalogue does indeed detail previous models but also includes new releases for 2014.You would be advised to purchase models as you need them to avoid them being discontinued in subsequent yearsHope this helps\\n    \\n      see less'\n",
      " \"What is the gauge of the track // Hi Paul.Truthfully, I'm not sure. But it's very much alike to a 00 gauge. But this train set isn't an add-on for an electric train set nor has nothing to do with one.I bought this for my 4 year old nephew as he adores trains but is far too young for an electric set. He was VERY happy with this though! | what is the layout of the tracks? // Its an oval shape layout\"\n",
      " \"is it possible to replace thr grain of wheat lamps with leds // Hi Pete. No it's not possible the main pole is to thin to take readily available LEDs wiring. I was hoping to do this myself but it would mean rewireing the LEDs with thin enough wire that I have not managed to track down yet. I will be trying by using the existing wire. Tricky job cutting the tops off the lantern and …\\n    \\n      see more\\n    \\n  \\n  \\n    Hi Pete. No it's not possible the main pole is to thin to take readily available LEDs wiring. I was hoping to do this myself but it would mean rewireing the LEDs with thin enough wire that I have not managed to track down yet. I will be trying by using the existing wire. Tricky job cutting the tops off the lantern and hoping I can pull enough wire through to solder the led back on. That I will be trying in the next few months. Hope I may have been some help, good luck. Derryck\\n    \\n      see less\"\n",
      " nan\n",
      " 'what is the difference between this model and the Green model for 14 plus age group // Hi,  Apart from some minor detailing I believe their is very little difference.                             Regards John,, Shop Amazon Ltd']\n",
      "\tRange of length :  3  to  3351\n",
      "\tMissing Values :  5229\n"
     ]
    }
   ],
   "source": [
    "ColSummary('description')\n",
    "ColSummary('product_information')\n",
    "ColSummary('product_description')\n",
    "ColSummary('items_customers_buy_after_viewing_this_item')\n",
    "ColSummary('customer_questions_and_answers')"
   ]
  },
  {
   "cell_type": "code",
   "execution_count": null,
   "id": "26f4bfc4",
   "metadata": {
    "papermill": {
     "duration": 0.024496,
     "end_time": "2022-02-18T15:40:23.869530",
     "exception": false,
     "start_time": "2022-02-18T15:40:23.845034",
     "status": "completed"
    },
    "tags": []
   },
   "outputs": [],
   "source": []
  }
 ],
 "metadata": {
  "kernelspec": {
   "display_name": "Python 3",
   "language": "python",
   "name": "python3"
  },
  "language_info": {
   "codemirror_mode": {
    "name": "ipython",
    "version": 3
   },
   "file_extension": ".py",
   "mimetype": "text/x-python",
   "name": "python",
   "nbconvert_exporter": "python",
   "pygments_lexer": "ipython3",
   "version": "3.7.12"
  },
  "papermill": {
   "default_parameters": {},
   "duration": 14.786715,
   "end_time": "2022-02-18T15:40:24.604346",
   "environment_variables": {},
   "exception": null,
   "input_path": "__notebook__.ipynb",
   "output_path": "__notebook__.ipynb",
   "parameters": {},
   "start_time": "2022-02-18T15:40:09.817631",
   "version": "2.3.3"
  }
 },
 "nbformat": 4,
 "nbformat_minor": 5
}
