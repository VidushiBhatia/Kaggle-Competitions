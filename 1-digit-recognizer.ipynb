{
 "cells": [
  {
   "cell_type": "code",
   "execution_count": 1,
   "id": "63f4ab1c",
   "metadata": {
    "_cell_guid": "b1076dfc-b9ad-4769-8c92-a6c4dae69d19",
    "_uuid": "8f2839f25d086af736a60e9eeb907d3b93b6e0e5",
    "execution": {
     "iopub.execute_input": "2022-01-08T07:20:44.348559Z",
     "iopub.status.busy": "2022-01-08T07:20:44.347556Z",
     "iopub.status.idle": "2022-01-08T07:20:44.361903Z",
     "shell.execute_reply": "2022-01-08T07:20:44.362471Z",
     "shell.execute_reply.started": "2021-11-12T20:21:44.604666Z"
    },
    "papermill": {
     "duration": 0.037069,
     "end_time": "2022-01-08T07:20:44.362771",
     "exception": false,
     "start_time": "2022-01-08T07:20:44.325702",
     "status": "completed"
    },
    "tags": []
   },
   "outputs": [
    {
     "name": "stdout",
     "output_type": "stream",
     "text": [
      "/kaggle/input/digit-recognizer/sample_submission.csv\n",
      "/kaggle/input/digit-recognizer/train.csv\n",
      "/kaggle/input/digit-recognizer/test.csv\n"
     ]
    }
   ],
   "source": [
    "# This Python 3 environment comes with many helpful analytics libraries installed\n",
    "# It is defined by the kaggle/python Docker image: https://github.com/kaggle/docker-python\n",
    "# For example, here's several helpful packages to load\n",
    "\n",
    "import numpy as np # linear algebra\n",
    "import pandas as pd # data processing, CSV file I/O (e.g. pd.read_csv)\n",
    "\n",
    "# Input data files are available in the read-only \"../input/\" directory\n",
    "# For example, running this (by clicking run or pressing Shift+Enter) will list all files under the input directory\n",
    "\n",
    "import os\n",
    "for dirname, _, filenames in os.walk('/kaggle/input'):\n",
    "    for filename in filenames:\n",
    "        print(os.path.join(dirname, filename))\n",
    "\n",
    "# You can write up to 20GB to the current directory (/kaggle/working/) that gets preserved as output when you create a version using \"Save & Run All\" \n",
    "# You can also write temporary files to /kaggle/temp/, but they won't be saved outside of the current session"
   ]
  },
  {
   "cell_type": "code",
   "execution_count": 2,
   "id": "b990a70b",
   "metadata": {
    "execution": {
     "iopub.execute_input": "2022-01-08T07:20:44.392233Z",
     "iopub.status.busy": "2022-01-08T07:20:44.391548Z",
     "iopub.status.idle": "2022-01-08T07:20:51.468086Z",
     "shell.execute_reply": "2022-01-08T07:20:51.467381Z",
     "shell.execute_reply.started": "2021-11-12T20:21:44.629944Z"
    },
    "papermill": {
     "duration": 7.091826,
     "end_time": "2022-01-08T07:20:51.468260",
     "exception": false,
     "start_time": "2022-01-08T07:20:44.376434",
     "status": "completed"
    },
    "tags": []
   },
   "outputs": [],
   "source": [
    "import keras\n",
    "from keras.models import Sequential\n",
    "from keras.layers import Dense, Dropout, Flatten\n",
    "from keras.layers import Conv2D, MaxPooling2D\n",
    "from keras import backend as K\n",
    "from sklearn.model_selection import train_test_split\n",
    "import matplotlib.pyplot as plt\n",
    "from tensorflow import keras"
   ]
  },
  {
   "cell_type": "code",
   "execution_count": 3,
   "id": "67223523",
   "metadata": {
    "execution": {
     "iopub.execute_input": "2022-01-08T07:20:51.502623Z",
     "iopub.status.busy": "2022-01-08T07:20:51.501915Z",
     "iopub.status.idle": "2022-01-08T07:20:57.405793Z",
     "shell.execute_reply": "2022-01-08T07:20:57.406354Z",
     "shell.execute_reply.started": "2021-11-12T20:21:44.637815Z"
    },
    "papermill": {
     "duration": 5.925253,
     "end_time": "2022-01-08T07:20:57.406552",
     "exception": false,
     "start_time": "2022-01-08T07:20:51.481299",
     "status": "completed"
    },
    "tags": []
   },
   "outputs": [],
   "source": [
    "train = pd.read_csv(\"/kaggle/input/digit-recognizer/train.csv\")\n",
    "test = pd.read_csv(\"/kaggle/input/digit-recognizer/test.csv\")\n",
    "sample = pd.read_csv(\"/kaggle/input/digit-recognizer/sample_submission.csv\")"
   ]
  },
  {
   "cell_type": "code",
   "execution_count": 4,
   "id": "6a3d2f28",
   "metadata": {
    "execution": {
     "iopub.execute_input": "2022-01-08T07:20:57.445995Z",
     "iopub.status.busy": "2022-01-08T07:20:57.444898Z",
     "iopub.status.idle": "2022-01-08T07:20:58.989026Z",
     "shell.execute_reply": "2022-01-08T07:20:58.988375Z",
     "shell.execute_reply.started": "2021-11-12T20:21:49.010914Z"
    },
    "papermill": {
     "duration": 1.56947,
     "end_time": "2022-01-08T07:20:58.989206",
     "exception": false,
     "start_time": "2022-01-08T07:20:57.419736",
     "status": "completed"
    },
    "tags": []
   },
   "outputs": [
    {
     "data": {
      "image/png": "[encoded data removed]",
      "text/plain": [
       "<Figure size 432x288 with 1 Axes>"
      ]
     },
     "metadata": {
      "needs_background": "light"
     },
     "output_type": "display_data"
    },
    {
     "data": {
      "image/png": "[encoded data removed]",
      "text/plain": [
       "<Figure size 432x288 with 1 Axes>"
      ]
     },
     "metadata": {
      "needs_background": "light"
     },
     "output_type": "display_data"
    },
    {
     "data": {
      "image/png": "[encoded data removed]",
      "text/plain": [
       "<Figure size 432x288 with 1 Axes>"
      ]
     },
     "metadata": {
      "needs_background": "light"
     },
     "output_type": "display_data"
    }
   ],
   "source": [
    "y = np.array(train['label'],dtype=int)\n",
    "X = np.array(train.drop(['label'],axis=1),dtype=float)\n",
    "train_X, valid_X, train_y, valid_y = train_test_split(X, y, test_size=0.2, random_state=123)\n",
    "\n",
    "for i in range(3):\n",
    "    fig=plt.figure()\n",
    "    plt.imshow(train_X[i].reshape([28,28]))\n",
    "    plt.title(str(train_y[i]))"
   ]
  },
  {
   "cell_type": "code",
   "execution_count": 5,
   "id": "8b551de0",
   "metadata": {
    "execution": {
     "iopub.execute_input": "2022-01-08T07:20:59.025465Z",
     "iopub.status.busy": "2022-01-08T07:20:59.024522Z",
     "iopub.status.idle": "2022-01-08T07:20:59.488466Z",
     "shell.execute_reply": "2022-01-08T07:20:59.487785Z",
     "shell.execute_reply.started": "2021-11-12T20:21:52.887232Z"
    },
    "papermill": {
     "duration": 0.484235,
     "end_time": "2022-01-08T07:20:59.488616",
     "exception": false,
     "start_time": "2022-01-08T07:20:59.004381",
     "status": "completed"
    },
    "tags": []
   },
   "outputs": [],
   "source": [
    "train_X = train_X.reshape( -1 , 28 , 28 , 1)\n",
    "valid_X = valid_X.reshape( -1 , 28 , 28 , 1)\n",
    "from tensorflow.keras.utils import to_categorical\n",
    "train_y = to_categorical(train_y)\n",
    "valid_y = to_categorical(valid_y)"
   ]
  },
  {
   "cell_type": "code",
   "execution_count": 6,
   "id": "7b1cc976",
   "metadata": {
    "execution": {
     "iopub.execute_input": "2022-01-08T07:20:59.525404Z",
     "iopub.status.busy": "2022-01-08T07:20:59.522084Z",
     "iopub.status.idle": "2022-01-08T07:20:59.528973Z",
     "shell.execute_reply": "2022-01-08T07:20:59.528337Z",
     "shell.execute_reply.started": "2021-11-12T20:21:53.461099Z"
    },
    "papermill": {
     "duration": 0.025414,
     "end_time": "2022-01-08T07:20:59.529131",
     "exception": false,
     "start_time": "2022-01-08T07:20:59.503717",
     "status": "completed"
    },
    "tags": []
   },
   "outputs": [
    {
     "data": {
      "text/plain": [
       "(33600, 10)"
      ]
     },
     "execution_count": 6,
     "metadata": {},
     "output_type": "execute_result"
    }
   ],
   "source": [
    "train_y.shape"
   ]
  },
  {
   "cell_type": "code",
   "execution_count": 7,
   "id": "1cd86c9d",
   "metadata": {
    "execution": {
     "iopub.execute_input": "2022-01-08T07:20:59.568125Z",
     "iopub.status.busy": "2022-01-08T07:20:59.567202Z",
     "iopub.status.idle": "2022-01-08T07:20:59.734952Z",
     "shell.execute_reply": "2022-01-08T07:20:59.735700Z",
     "shell.execute_reply.started": "2021-11-12T20:22:00.42419Z"
    },
    "papermill": {
     "duration": 0.191914,
     "end_time": "2022-01-08T07:20:59.735896",
     "exception": false,
     "start_time": "2022-01-08T07:20:59.543982",
     "status": "completed"
    },
    "tags": []
   },
   "outputs": [
    {
     "name": "stderr",
     "output_type": "stream",
     "text": [
      "\n",
      "User settings:\n",
      "\n",
      "   KMP_AFFINITY=granularity=fine,verbose,compact,1,0\n",
      "   KMP_BLOCKTIME=0\n",
      "   KMP_DUPLICATE_LIB_OK=True\n",
      "   KMP_INIT_AT_FORK=FALSE\n",
      "   KMP_SETTINGS=1\n",
      "   KMP_WARNINGS=0\n",
      "\n",
      "Effective settings:\n",
      "\n",
      "   KMP_ABORT_DELAY=0\n",
      "   KMP_ADAPTIVE_LOCK_PROPS='1,1024'\n",
      "   KMP_ALIGN_ALLOC=64\n",
      "   KMP_ALL_THREADPRIVATE=128\n",
      "   KMP_ATOMIC_MODE=2\n",
      "   KMP_BLOCKTIME=0\n",
      "   KMP_CPUINFO_FILE: value is not defined\n",
      "   KMP_DETERMINISTIC_REDUCTION=false\n",
      "   KMP_DEVICE_THREAD_LIMIT=2147483647\n",
      "   KMP_DISP_NUM_BUFFERS=7\n",
      "   KMP_DUPLICATE_LIB_OK=true\n",
      "   KMP_ENABLE_TASK_THROTTLING=true\n",
      "   KMP_FORCE_REDUCTION: value is not defined\n",
      "   KMP_FOREIGN_THREADS_THREADPRIVATE=true\n",
      "   KMP_FORKJOIN_BARRIER='2,2'\n",
      "   KMP_FORKJOIN_BARRIER_PATTERN='hyper,hyper'\n",
      "   KMP_GTID_MODE=3\n",
      "   KMP_HANDLE_SIGNALS=false\n",
      "   KMP_HOT_TEAMS_MAX_LEVEL=1\n",
      "   KMP_HOT_TEAMS_MODE=0\n",
      "   KMP_INIT_AT_FORK=true\n",
      "   KMP_LIBRARY=throughput\n",
      "   KMP_LOCK_KIND=queuing\n",
      "   KMP_MALLOC_POOL_INCR=1M\n",
      "   KMP_NUM_LOCKS_IN_BLOCK=1\n",
      "   KMP_PLAIN_BARRIER='2,2'\n",
      "   KMP_PLAIN_BARRIER_PATTERN='hyper,hyper'\n",
      "   KMP_REDUCTION_BARRIER='1,1'\n",
      "   KMP_REDUCTION_BARRIER_PATTERN='hyper,hyper'\n",
      "   KMP_SCHEDULE='static,balanced;guided,iterative'\n",
      "   KMP_SETTINGS=true\n",
      "   KMP_SPIN_BACKOFF_PARAMS='4096,100'\n",
      "   KMP_STACKOFFSET=64\n",
      "   KMP_STACKPAD=0\n",
      "   KMP_STACKSIZE=8M\n",
      "   KMP_STORAGE_MAP=false\n",
      "   KMP_TASKING=2\n",
      "   KMP_TASKLOOP_MIN_TASKS=0\n",
      "   KMP_TASK_STEALING_CONSTRAINT=1\n",
      "   KMP_TEAMS_THREAD_LIMIT=4\n",
      "   KMP_TOPOLOGY_METHOD=all\n",
      "   KMP_USE_YIELD=1\n",
      "   KMP_VERSION=false\n",
      "   KMP_WARNINGS=false\n",
      "   OMP_AFFINITY_FORMAT='OMP: pid %P tid %i thread %n bound to OS proc set {%A}'\n",
      "   OMP_ALLOCATOR=omp_default_mem_alloc\n",
      "   OMP_CANCELLATION=false\n",
      "   OMP_DEFAULT_DEVICE=0\n",
      "   OMP_DISPLAY_AFFINITY=false\n",
      "   OMP_DISPLAY_ENV=false\n",
      "   OMP_DYNAMIC=false\n",
      "   OMP_MAX_ACTIVE_LEVELS=1\n",
      "   OMP_MAX_TASK_PRIORITY=0\n",
      "   OMP_NESTED: deprecated; max-active-levels-var=1\n",
      "   OMP_NUM_THREADS: value is not defined\n",
      "   OMP_PLACES: value is not defined\n",
      "   OMP_PROC_BIND='intel'\n",
      "   OMP_SCHEDULE='static'\n",
      "   OMP_STACKSIZE=8M\n",
      "   OMP_TARGET_OFFLOAD=DEFAULT\n",
      "   OMP_THREAD_LIMIT=2147483647\n",
      "   OMP_WAIT_POLICY=PASSIVE\n",
      "   KMP_AFFINITY='verbose,warnings,respect,granularity=fine,compact,1,0'\n",
      "\n",
      "2022-01-08 07:20:59.607025: I tensorflow/core/common_runtime/process_util.cc:146] Creating new thread pool with default inter op setting: 2. Tune using inter_op_parallelism_threads for best performance.\n"
     ]
    }
   ],
   "source": [
    "input_shape = (28, 28, 1)\n",
    "batch_size = 128\n",
    "num_classes = 10\n",
    "epochs = 10\n",
    "model = Sequential()\n",
    "model.add(Conv2D(32, kernel_size=(4, 4),activation='relu',input_shape=input_shape))\n",
    "model.add(MaxPooling2D(pool_size=(2, 2)))\n",
    "model.add(Dropout(0.25))\n",
    "model.add(Flatten())\n",
    "model.add(Dense(128, activation='relu'))\n",
    "model.add(Dropout(0.5))\n",
    "model.add(Dense(num_classes, activation='softmax'))\n",
    "opt = keras.optimizers.Adam(learning_rate=0.01)\n",
    "model.compile(loss=keras.losses.categorical_crossentropy,optimizer=opt,metrics=['accuracy'])"
   ]
  },
  {
   "cell_type": "code",
   "execution_count": 8,
   "id": "46c570c1",
   "metadata": {
    "execution": {
     "iopub.execute_input": "2022-01-08T07:20:59.773123Z",
     "iopub.status.busy": "2022-01-08T07:20:59.772057Z",
     "iopub.status.idle": "2022-01-08T07:22:22.581922Z",
     "shell.execute_reply": "2022-01-08T07:22:22.581358Z",
     "shell.execute_reply.started": "2021-11-12T20:22:10.674028Z"
    },
    "papermill": {
     "duration": 82.830301,
     "end_time": "2022-01-08T07:22:22.582073",
     "exception": false,
     "start_time": "2022-01-08T07:20:59.751772",
     "status": "completed"
    },
    "tags": []
   },
   "outputs": [
    {
     "name": "stderr",
     "output_type": "stream",
     "text": [
      "2022-01-08 07:20:59.988360: I tensorflow/compiler/mlir/mlir_graph_optimization_pass.cc:185] None of the MLIR Optimization Passes are enabled (registered 2)\n"
     ]
    },
    {
     "name": "stdout",
     "output_type": "stream",
     "text": [
      "Epoch 1/10\n",
      "263/263 [==============================] - 7s 23ms/step - loss: 3.2972 - accuracy: 0.7779 - val_loss: 0.1977 - val_accuracy: 0.9421\n",
      "Epoch 2/10\n",
      "263/263 [==============================] - 6s 22ms/step - loss: 0.3993 - accuracy: 0.8844 - val_loss: 0.1814 - val_accuracy: 0.9470\n",
      "Epoch 3/10\n",
      "263/263 [==============================] - 6s 25ms/step - loss: 0.3500 - accuracy: 0.8988 - val_loss: 0.1896 - val_accuracy: 0.9417\n",
      "Epoch 4/10\n",
      "263/263 [==============================] - 6s 22ms/step - loss: 0.3399 - accuracy: 0.9039 - val_loss: 0.1652 - val_accuracy: 0.9526\n",
      "Epoch 5/10\n",
      "263/263 [==============================] - 6s 23ms/step - loss: 0.3427 - accuracy: 0.9039 - val_loss: 0.1571 - val_accuracy: 0.9545\n",
      "Epoch 6/10\n",
      "263/263 [==============================] - 6s 22ms/step - loss: 0.3412 - accuracy: 0.9043 - val_loss: 0.1651 - val_accuracy: 0.9565\n",
      "Epoch 7/10\n",
      "263/263 [==============================] - 6s 22ms/step - loss: 0.3559 - accuracy: 0.9017 - val_loss: 0.2097 - val_accuracy: 0.9505\n",
      "Epoch 8/10\n",
      "263/263 [==============================] - 6s 24ms/step - loss: 0.3799 - accuracy: 0.8973 - val_loss: 0.1607 - val_accuracy: 0.9556\n",
      "Epoch 9/10\n",
      "263/263 [==============================] - 6s 22ms/step - loss: 0.3661 - accuracy: 0.9010 - val_loss: 0.1756 - val_accuracy: 0.9486\n",
      "Epoch 10/10\n",
      "263/263 [==============================] - 6s 22ms/step - loss: 0.4062 - accuracy: 0.8935 - val_loss: 0.1968 - val_accuracy: 0.9520\n",
      "The model has successfully trained\n"
     ]
    }
   ],
   "source": [
    "hist = model.fit(train_X, train_y,batch_size=batch_size,epochs=epochs,verbose=1,validation_data=(valid_X, valid_y))\n",
    "print(\"The model has successfully trained\")"
   ]
  },
  {
   "cell_type": "code",
   "execution_count": 9,
   "id": "bd5d4ba7",
   "metadata": {
    "execution": {
     "iopub.execute_input": "2022-01-08T07:22:23.177142Z",
     "iopub.status.busy": "2022-01-08T07:22:23.176457Z",
     "iopub.status.idle": "2022-01-08T07:22:23.840188Z",
     "shell.execute_reply": "2022-01-08T07:22:23.841060Z",
     "shell.execute_reply.started": "2021-11-12T20:23:04.342886Z"
    },
    "papermill": {
     "duration": 0.965075,
     "end_time": "2022-01-08T07:22:23.841332",
     "exception": false,
     "start_time": "2022-01-08T07:22:22.876257",
     "status": "completed"
    },
    "tags": []
   },
   "outputs": [
    {
     "name": "stdout",
     "output_type": "stream",
     "text": [
      "Test loss: 0.19675050675868988\n",
      "Test accuracy: 0.9520238041877747\n"
     ]
    }
   ],
   "source": [
    "score = model.evaluate(valid_X, valid_y, verbose=0)\n",
    "print('Test loss:', score[0])\n",
    "print('Test accuracy:', score[1])"
   ]
  },
  {
   "cell_type": "code",
   "execution_count": 10,
   "id": "cb7e0eaa",
   "metadata": {
    "execution": {
     "iopub.execute_input": "2022-01-08T07:22:24.431680Z",
     "iopub.status.busy": "2022-01-08T07:22:24.431009Z",
     "iopub.status.idle": "2022-01-08T07:22:24.593114Z",
     "shell.execute_reply": "2022-01-08T07:22:24.593675Z",
     "shell.execute_reply.started": "2021-11-12T20:23:04.903888Z"
    },
    "papermill": {
     "duration": 0.458394,
     "end_time": "2022-01-08T07:22:24.593852",
     "exception": false,
     "start_time": "2022-01-08T07:22:24.135458",
     "status": "completed"
    },
    "tags": []
   },
   "outputs": [
    {
     "data": {
      "text/plain": [
       "(28000, 28, 28, 1)"
      ]
     },
     "execution_count": 10,
     "metadata": {},
     "output_type": "execute_result"
    }
   ],
   "source": [
    "test = np.array(test,dtype=float)\n",
    "test = test.reshape( -1 , 28 , 28 , 1)\n",
    "test.shape"
   ]
  },
  {
   "cell_type": "code",
   "execution_count": 11,
   "id": "25f130ee",
   "metadata": {
    "execution": {
     "iopub.execute_input": "2022-01-08T07:22:25.196208Z",
     "iopub.status.busy": "2022-01-08T07:22:25.195000Z",
     "iopub.status.idle": "2022-01-08T07:22:27.311235Z",
     "shell.execute_reply": "2022-01-08T07:22:27.310600Z",
     "shell.execute_reply.started": "2021-11-12T20:23:05.055869Z"
    },
    "papermill": {
     "duration": 2.424062,
     "end_time": "2022-01-08T07:22:27.311404",
     "exception": false,
     "start_time": "2022-01-08T07:22:24.887342",
     "status": "completed"
    },
    "tags": []
   },
   "outputs": [
    {
     "data": {
      "text/plain": [
       "array([2, 0, 9, ..., 3, 9, 2])"
      ]
     },
     "execution_count": 11,
     "metadata": {},
     "output_type": "execute_result"
    }
   ],
   "source": [
    "test_preds = model.predict(test)\n",
    "preds = np.argmax(test_preds , axis = 1)\n",
    "preds"
   ]
  },
  {
   "cell_type": "code",
   "execution_count": 12,
   "id": "0a70454e",
   "metadata": {
    "execution": {
     "iopub.execute_input": "2022-01-08T07:22:27.908710Z",
     "iopub.status.busy": "2022-01-08T07:22:27.907646Z",
     "iopub.status.idle": "2022-01-08T07:22:27.911918Z",
     "shell.execute_reply": "2022-01-08T07:22:27.912532Z",
     "shell.execute_reply.started": "2021-11-12T20:23:59.448731Z"
    },
    "papermill": {
     "duration": 0.305257,
     "end_time": "2022-01-08T07:22:27.912713",
     "exception": false,
     "start_time": "2022-01-08T07:22:27.607456",
     "status": "completed"
    },
    "tags": []
   },
   "outputs": [],
   "source": [
    "test_image_id = range( 1 , len(preds)+1 )"
   ]
  },
  {
   "cell_type": "code",
   "execution_count": 13,
   "id": "19a66e18",
   "metadata": {
    "execution": {
     "iopub.execute_input": "2022-01-08T07:22:28.511463Z",
     "iopub.status.busy": "2022-01-08T07:22:28.510757Z",
     "iopub.status.idle": "2022-01-08T07:22:28.568531Z",
     "shell.execute_reply": "2022-01-08T07:22:28.567853Z",
     "shell.execute_reply.started": "2021-11-12T20:24:45.423181Z"
    },
    "papermill": {
     "duration": 0.359043,
     "end_time": "2022-01-08T07:22:28.568690",
     "exception": false,
     "start_time": "2022-01-08T07:22:28.209647",
     "status": "completed"
    },
    "tags": []
   },
   "outputs": [],
   "source": [
    "submit_df = {\"ImageId\" : test_image_id , \"Label\" : preds }\n",
    "submit_df = pd.DataFrame(submit_df)\n",
    "\n",
    "submit_df.to_csv('/kaggle/working/submission.csv', index=False)"
   ]
  },
  {
   "cell_type": "code",
   "execution_count": null,
   "id": "82210458",
   "metadata": {
    "papermill": {
     "duration": 0.297841,
     "end_time": "2022-01-08T07:22:29.162090",
     "exception": false,
     "start_time": "2022-01-08T07:22:28.864249",
     "status": "completed"
    },
    "tags": []
   },
   "outputs": [],
   "source": []
  }
 ],
 "metadata": {
  "kernelspec": {
   "display_name": "Python 3",
   "language": "python",
   "name": "python3"
  },
  "language_info": {
   "codemirror_mode": {
    "name": "ipython",
    "version": 3
   },
   "file_extension": ".py",
   "mimetype": "text/x-python",
   "name": "python",
   "nbconvert_exporter": "python",
   "pygments_lexer": "ipython3",
   "version": "3.7.10"
  },
  "papermill": {
   "default_parameters": {},
   "duration": 118.962926,
   "end_time": "2022-01-08T07:22:32.811275",
   "environment_variables": {},
   "exception": null,
   "input_path": "__notebook__.ipynb",
   "output_path": "__notebook__.ipynb",
   "parameters": {},
   "start_time": "2022-01-08T07:20:33.848349",
   "version": "2.3.3"
  }
 },
 "nbformat": 4,
 "nbformat_minor": 5
}
